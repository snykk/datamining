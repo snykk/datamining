{
 "cells": [
  {
   "cell_type": "code",
   "execution_count": 2,
   "id": "e8d3deec",
   "metadata": {},
   "outputs": [
    {
     "name": "stdout",
     "output_type": "stream",
     "text": [
      "[[4 4 5]\n",
      " [7 6 4]\n",
      " [9 7 4]\n",
      " [6 3 7]]\n",
      "<class 'numpy.ndarray'>\n"
     ]
    }
   ],
   "source": [
    "# f.\tBuatlah array 2D berikut menggunakan numpy\n",
    "import numpy as np\n",
    "arr = [\n",
    "    [4,4,5], \n",
    "    [7,6,4],\n",
    "    [9,7,4],\n",
    "    [6,3,7]\n",
    "]\n",
    "array_2d = np.array(arr)\n",
    "print(array_2d)\n",
    "print(type(array_2d))"
   ]
  },
  {
   "cell_type": "code",
   "execution_count": 3,
   "id": "faeb8f20",
   "metadata": {},
   "outputs": [
    {
     "name": "stdout",
     "output_type": "stream",
     "text": [
      "[[[ 7  8  5]\n",
      "  [ 4  7  7]\n",
      "  [ 7  1  9]\n",
      "  [ 5  4 10]]\n",
      "\n",
      " [[ 2  1  2]\n",
      "  [ 9  8  5]\n",
      "  [ 3  7  3]\n",
      "  [ 4  9  9]]\n",
      "\n",
      " [[ 2  9  3]\n",
      "  [ 2  4  8]\n",
      "  [ 1  6  6]\n",
      "  [ 8  1  3]]]\n",
      "<class 'numpy.ndarray'>\n"
     ]
    }
   ],
   "source": [
    "# g.\tBuatlah array 3D berikut menggunakan numpy\n",
    "import numpy as np\n",
    "# arr = np.zeros((2, 3, 4))\n",
    "arr = [\n",
    "    [\n",
    "        [7,8,5],\n",
    "        [4,7,7],\n",
    "        [7,1,9],\n",
    "        [5,4,10]\n",
    "    ],\n",
    "    [\n",
    "        [2,1,2],\n",
    "        [9,8,5],\n",
    "        [3,7,3],\n",
    "        [4,9,9]        \n",
    "    ],\n",
    "    [\n",
    "        [2,9,3],\n",
    "        [2,4,8],\n",
    "        [1,6,6],\n",
    "        [8,1,3]\n",
    "    ]\n",
    "]\n",
    "array_3d = np.array(arr)\n",
    "print(array_3d)\n",
    "print(type(array_3d))"
   ]
  },
  {
   "cell_type": "code",
   "execution_count": 4,
   "id": "8d35e7fe",
   "metadata": {},
   "outputs": [
    {
     "name": "stdout",
     "output_type": "stream",
     "text": [
      "[[ 2  9  9  3]\n",
      " [10  4  3  4]\n",
      " [11  2  5  8]\n",
      " [ 3  6  9 10]\n",
      " [ 9  3  4  5]]\n"
     ]
    }
   ],
   "source": [
    "# d.\tTambahkan angka 1 pada setiap bilangan di baris ganjil array berikut. kemudian tambahkan \n",
    "# angka 2 pada setiap bilangan di kolom genap array berikut.\n",
    "import numpy as np\n",
    "arr = [\n",
    "    [1,8,8,2], #0\n",
    "    [8,2,1,2], #1\n",
    "    [10,1,4,7],\n",
    "    [1,4,7,8],\n",
    "    [8,2,3,4]\n",
    "]\n",
    "array = np.array(arr)\n",
    "arrayBaru = np.array([(array[x]+2 if (x+1)%2 == 0 else array[x]+1 ) for x in range(len(array))])\n",
    "print(arrayBaru)"
   ]
  },
  {
   "cell_type": "code",
   "execution_count": 26,
   "id": "7014695f",
   "metadata": {},
   "outputs": [
    {
     "name": "stdout",
     "output_type": "stream",
     "text": [
      "[[ 2  9  9  3]\n",
      " [10  4  3  4]\n",
      " [11  2  5  8]\n",
      " [ 3  6  9 10]\n",
      " [ 9  3  4  5]]\n"
     ]
    }
   ],
   "source": [
    "# d.\tTambahkan angka 1 pada setiap bilangan di baris ganjil array berikut. kemudian tambahkan \n",
    "# angka 2 pada setiap bilangan di kolom genap array berikut.\n",
    "arr = [\n",
    "    [1,8,8,2],\n",
    "    [8,2,1,2],\n",
    "    [10,1,4,7],\n",
    "    [1,4,7,8],\n",
    "    [8,2,3,4]\n",
    "]\n",
    "array = []\n",
    "for i in range(len(arr)):\n",
    "    tampung = []\n",
    "    for j in range(len(arr[i])):\n",
    "        if (i+1)%2 == 0:\n",
    "            tampung.append(arr[i][j]+2)\n",
    "        else:\n",
    "            tampung.append(arr[i][j]+1)\n",
    "    array.append(tampung)\n",
    "arrNumpy = np.array(array)\n",
    "print(arrNumpy)"
   ]
  },
  {
   "cell_type": "code",
   "execution_count": 6,
   "id": "fbb1cc28",
   "metadata": {},
   "outputs": [
    {
     "name": "stdout",
     "output_type": "stream",
     "text": [
      "[[[ 2  9  3]\n",
      "  [ 2  4  8]\n",
      "  [ 1  6  6]\n",
      "  [ 8  1  3]]\n",
      "\n",
      " [[ 2  1  2]\n",
      "  [ 9  8  5]\n",
      "  [ 3  7  3]\n",
      "  [ 4  9  9]]\n",
      "\n",
      " [[ 7  8  5]\n",
      "  [ 4  7  7]\n",
      "  [ 7  1  9]\n",
      "  [ 5  4 10]]]\n"
     ]
    }
   ],
   "source": [
    "# e.\tBaliklah sumbu z array 3D berikut\n",
    "arr = [\n",
    "    [\n",
    "        [7,8,5],\n",
    "        [4,7,7],\n",
    "        [7,1,9],\n",
    "        [5,4,10]\n",
    "    ],\n",
    "    [\n",
    "        [2,1,2],\n",
    "        [9,8,5],\n",
    "        [3,7,3],\n",
    "        [4,9,9]        \n",
    "    ],\n",
    "    [\n",
    "        [2,9,3],\n",
    "        [2,4,8],\n",
    "        [1,6,6],\n",
    "        [8,1,3]\n",
    "    ]\n",
    "]\n",
    "array = np.array(arr[::-1])\n",
    "print(array)"
   ]
  },
  {
   "cell_type": "code",
   "execution_count": 7,
   "id": "718dbcea",
   "metadata": {},
   "outputs": [
    {
     "name": "stdout",
     "output_type": "stream",
     "text": [
      "[[ 7  8  5  4  7  7]\n",
      " [ 7  1  9  5  4 10]\n",
      " [ 2  1  2  9  8  5]\n",
      " [ 3  7  3  4  9  9]\n",
      " [ 2  9  3  2  4  8]\n",
      " [ 1  6  6  8  1  3]]\n"
     ]
    }
   ],
   "source": [
    "# f.\tUbahlah array pada soal e menjadi array 2D berukuran 6 x 6 (hint : gunakan perintah reshape)\n",
    "arr = [\n",
    "    [\n",
    "        [7,8,5],\n",
    "        [4,7,7],\n",
    "        [7,1,9],\n",
    "        [5,4,10]\n",
    "    ],\n",
    "    [\n",
    "        [2,1,2],\n",
    "        [9,8,5],\n",
    "        [3,7,3],\n",
    "        [4,9,9]        \n",
    "    ],\n",
    "    [\n",
    "        [2,9,3],\n",
    "        [2,4,8],\n",
    "        [1,6,6],\n",
    "        [8,1,3]\n",
    "    ]\n",
    "]\n",
    "arrNew = np.array(arr).reshape(6,6)\n",
    "print(arrNew)"
   ]
  },
  {
   "cell_type": "code",
   "execution_count": 13,
   "id": "322dd371",
   "metadata": {},
   "outputs": [
    {
     "name": "stdout",
     "output_type": "stream",
     "text": [
      "array lama:\n",
      " [[ 5 10 10  7]\n",
      " [ 7  8  4 10]\n",
      " [ 9 10  2  5]\n",
      " [ 1  8  9  3]\n",
      " [ 6 10  5  2]\n",
      " [ 4  6  9  4]]\n",
      "\n",
      "array baru:\n",
      " [[ 9  3  1  8]\n",
      " [ 5  2  6 10]\n",
      " [ 9  4  4  6]\n",
      " [10  7  5 10]\n",
      " [ 4 10  7  8]\n",
      " [ 2  5  9 10]]\n"
     ]
    }
   ],
   "source": [
    "# e.\tUbahlah matris kiri menjadi matriks sebelah kanan\n",
    "arr = [\n",
    "    [5,10,10,7],\n",
    "    [7,8,4,10],\n",
    "    [9,10,2,5],\n",
    "    [1,8,9,3], \n",
    "    [6,10,5,2],\n",
    "    [4,6,9,4]\n",
    "]\n",
    "a = 3\n",
    "b = 5\n",
    "arr_new = []\n",
    "while a<=b:\n",
    "    arr_new.append([arr[a][2],arr[a][3],arr[a][0],arr[a][1]]) #[1,8,9,3] ---> [9,3,1,8]\n",
    "    a += 1\n",
    "    if len(arr_new) == 3:\n",
    "        a = 0\n",
    "        b = 2\n",
    "arrNumpy = np.array(arr_new)\n",
    "print('array lama:\\n', np.array(arr))\n",
    "print('\\narray baru:\\n',arrNumpy)"
   ]
  },
  {
   "cell_type": "code",
   "execution_count": null,
   "id": "15e554fc",
   "metadata": {},
   "outputs": [],
   "source": []
  },
  {
   "cell_type": "code",
   "execution_count": null,
   "id": "1351d95d",
   "metadata": {},
   "outputs": [],
   "source": []
  }
 ],
 "metadata": {
  "kernelspec": {
   "display_name": "Python 3 (ipykernel)",
   "language": "python",
   "name": "python3"
  },
  "language_info": {
   "codemirror_mode": {
    "name": "ipython",
    "version": 3
   },
   "file_extension": ".py",
   "mimetype": "text/x-python",
   "name": "python",
   "nbconvert_exporter": "python",
   "pygments_lexer": "ipython3",
   "version": "3.9.6"
  }
 },
 "nbformat": 4,
 "nbformat_minor": 5
}
