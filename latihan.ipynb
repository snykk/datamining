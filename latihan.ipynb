{
 "cells": [
  {
   "cell_type": "code",
   "execution_count": 123,
   "id": "latin-train",
   "metadata": {},
   "outputs": [],
   "source": [
    "import numpy as np\n",
    "import pandas as pd\n",
    "import matplotlib.pyplot as plt"
   ]
  },
  {
   "cell_type": "markdown",
   "id": "quality-anime",
   "metadata": {},
   "source": [
    "# Loading Dataset "
   ]
  },
  {
   "cell_type": "code",
   "execution_count": 124,
   "id": "negative-lesson",
   "metadata": {},
   "outputs": [],
   "source": [
    "X_train = pd.read_csv(\"X_train.csv\")\n",
    "Y_train = pd.read_csv(\"y_train.csv\")\n",
    "\n",
    "X_test = pd.read_csv(\"X_test.csv\")\n",
    "Y_test = pd.read_csv(\"y_test.csv\")"
   ]
  },
  {
   "cell_type": "code",
   "execution_count": 125,
   "id": "limited-borough",
   "metadata": {},
   "outputs": [
    {
     "data": {
      "text/html": [
       "<div>\n",
       "<style scoped>\n",
       "    .dataframe tbody tr th:only-of-type {\n",
       "        vertical-align: middle;\n",
       "    }\n",
       "\n",
       "    .dataframe tbody tr th {\n",
       "        vertical-align: top;\n",
       "    }\n",
       "\n",
       "    .dataframe thead th {\n",
       "        text-align: right;\n",
       "    }\n",
       "</style>\n",
       "<table border=\"1\" class=\"dataframe\">\n",
       "  <thead>\n",
       "    <tr style=\"text-align: right;\">\n",
       "      <th></th>\n",
       "      <th>jenis kelamin</th>\n",
       "      <th>umur</th>\n",
       "      <th>status pernikahan</th>\n",
       "      <th>anggota keluarga</th>\n",
       "      <th>jumlah tanggungan pendidikan</th>\n",
       "      <th>gaji</th>\n",
       "    </tr>\n",
       "  </thead>\n",
       "  <tbody>\n",
       "    <tr>\n",
       "      <th>0</th>\n",
       "      <td>L</td>\n",
       "      <td>40</td>\n",
       "      <td>menikah</td>\n",
       "      <td>4</td>\n",
       "      <td>1</td>\n",
       "      <td>1450000</td>\n",
       "    </tr>\n",
       "    <tr>\n",
       "      <th>1</th>\n",
       "      <td>L</td>\n",
       "      <td>55</td>\n",
       "      <td>menikah</td>\n",
       "      <td>3</td>\n",
       "      <td>1</td>\n",
       "      <td>700000</td>\n",
       "    </tr>\n",
       "    <tr>\n",
       "      <th>2</th>\n",
       "      <td>L</td>\n",
       "      <td>43</td>\n",
       "      <td>menikah</td>\n",
       "      <td>4</td>\n",
       "      <td>2</td>\n",
       "      <td>1600000</td>\n",
       "    </tr>\n",
       "    <tr>\n",
       "      <th>3</th>\n",
       "      <td>L</td>\n",
       "      <td>49</td>\n",
       "      <td>menikah</td>\n",
       "      <td>3</td>\n",
       "      <td>1</td>\n",
       "      <td>800000</td>\n",
       "    </tr>\n",
       "    <tr>\n",
       "      <th>4</th>\n",
       "      <td>L</td>\n",
       "      <td>50</td>\n",
       "      <td>menikah</td>\n",
       "      <td>5</td>\n",
       "      <td>3</td>\n",
       "      <td>1200000</td>\n",
       "    </tr>\n",
       "  </tbody>\n",
       "</table>\n",
       "</div>"
      ],
      "text/plain": [
       "  jenis kelamin  umur status pernikahan  anggota keluarga  \\\n",
       "0             L    40           menikah                 4   \n",
       "1             L    55           menikah                 3   \n",
       "2             L    43           menikah                 4   \n",
       "3             L    49           menikah                 3   \n",
       "4             L    50           menikah                 5   \n",
       "\n",
       "   jumlah tanggungan pendidikan     gaji  \n",
       "0                             1  1450000  \n",
       "1                             1   700000  \n",
       "2                             2  1600000  \n",
       "3                             1   800000  \n",
       "4                             3  1200000  "
      ]
     },
     "execution_count": 125,
     "metadata": {},
     "output_type": "execute_result"
    }
   ],
   "source": [
    "X_train.head()"
   ]
  },
  {
   "cell_type": "code",
   "execution_count": 126,
   "id": "933ad93b",
   "metadata": {},
   "outputs": [
    {
     "data": {
      "text/html": [
       "<div>\n",
       "<style scoped>\n",
       "    .dataframe tbody tr th:only-of-type {\n",
       "        vertical-align: middle;\n",
       "    }\n",
       "\n",
       "    .dataframe tbody tr th {\n",
       "        vertical-align: top;\n",
       "    }\n",
       "\n",
       "    .dataframe thead th {\n",
       "        text-align: right;\n",
       "    }\n",
       "</style>\n",
       "<table border=\"1\" class=\"dataframe\">\n",
       "  <thead>\n",
       "    <tr style=\"text-align: right;\">\n",
       "      <th></th>\n",
       "      <th>jenis kelamin</th>\n",
       "      <th>umur</th>\n",
       "      <th>status pernikahan</th>\n",
       "      <th>anggota keluarga</th>\n",
       "      <th>jumlah tanggungan pendidikan</th>\n",
       "      <th>gaji</th>\n",
       "      <th>L</th>\n",
       "      <th>P</th>\n",
       "      <th>menikah</th>\n",
       "      <th>tidak menikah</th>\n",
       "    </tr>\n",
       "  </thead>\n",
       "  <tbody>\n",
       "    <tr>\n",
       "      <th>0</th>\n",
       "      <td>L</td>\n",
       "      <td>40</td>\n",
       "      <td>menikah</td>\n",
       "      <td>4</td>\n",
       "      <td>1</td>\n",
       "      <td>1450000</td>\n",
       "      <td>1</td>\n",
       "      <td>0</td>\n",
       "      <td>1</td>\n",
       "      <td>0</td>\n",
       "    </tr>\n",
       "    <tr>\n",
       "      <th>1</th>\n",
       "      <td>L</td>\n",
       "      <td>55</td>\n",
       "      <td>menikah</td>\n",
       "      <td>3</td>\n",
       "      <td>1</td>\n",
       "      <td>700000</td>\n",
       "      <td>1</td>\n",
       "      <td>0</td>\n",
       "      <td>1</td>\n",
       "      <td>0</td>\n",
       "    </tr>\n",
       "    <tr>\n",
       "      <th>2</th>\n",
       "      <td>L</td>\n",
       "      <td>43</td>\n",
       "      <td>menikah</td>\n",
       "      <td>4</td>\n",
       "      <td>2</td>\n",
       "      <td>1600000</td>\n",
       "      <td>1</td>\n",
       "      <td>0</td>\n",
       "      <td>1</td>\n",
       "      <td>0</td>\n",
       "    </tr>\n",
       "  </tbody>\n",
       "</table>\n",
       "</div>"
      ],
      "text/plain": [
       "  jenis kelamin  umur status pernikahan  anggota keluarga  \\\n",
       "0             L    40           menikah                 4   \n",
       "1             L    55           menikah                 3   \n",
       "2             L    43           menikah                 4   \n",
       "\n",
       "   jumlah tanggungan pendidikan     gaji  L  P  menikah  tidak menikah  \n",
       "0                             1  1450000  1  0        1              0  \n",
       "1                             1   700000  1  0        1              0  \n",
       "2                             2  1600000  1  0        1              0  "
      ]
     },
     "execution_count": 126,
     "metadata": {},
     "output_type": "execute_result"
    }
   ],
   "source": [
    "jk_dummies = pd.get_dummies(X_train['jenis kelamin'])\n",
    "sp_dummies = pd.get_dummies(X_train['status pernikahan'])\n",
    "X_train = pd.concat([X_train,jk_dummies,sp_dummies],axis='columns')\n",
    "X_train.head(3)"
   ]
  },
  {
   "cell_type": "code",
   "execution_count": 127,
   "id": "792d4a93",
   "metadata": {},
   "outputs": [
    {
     "data": {
      "text/html": [
       "<div>\n",
       "<style scoped>\n",
       "    .dataframe tbody tr th:only-of-type {\n",
       "        vertical-align: middle;\n",
       "    }\n",
       "\n",
       "    .dataframe tbody tr th {\n",
       "        vertical-align: top;\n",
       "    }\n",
       "\n",
       "    .dataframe thead th {\n",
       "        text-align: right;\n",
       "    }\n",
       "</style>\n",
       "<table border=\"1\" class=\"dataframe\">\n",
       "  <thead>\n",
       "    <tr style=\"text-align: right;\">\n",
       "      <th></th>\n",
       "      <th>umur</th>\n",
       "      <th>anggota keluarga</th>\n",
       "      <th>jumlah tanggungan pendidikan</th>\n",
       "      <th>gaji</th>\n",
       "      <th>L</th>\n",
       "      <th>menikah</th>\n",
       "    </tr>\n",
       "  </thead>\n",
       "  <tbody>\n",
       "    <tr>\n",
       "      <th>0</th>\n",
       "      <td>40</td>\n",
       "      <td>4</td>\n",
       "      <td>1</td>\n",
       "      <td>1450000</td>\n",
       "      <td>1</td>\n",
       "      <td>1</td>\n",
       "    </tr>\n",
       "    <tr>\n",
       "      <th>1</th>\n",
       "      <td>55</td>\n",
       "      <td>3</td>\n",
       "      <td>1</td>\n",
       "      <td>700000</td>\n",
       "      <td>1</td>\n",
       "      <td>1</td>\n",
       "    </tr>\n",
       "    <tr>\n",
       "      <th>2</th>\n",
       "      <td>43</td>\n",
       "      <td>4</td>\n",
       "      <td>2</td>\n",
       "      <td>1600000</td>\n",
       "      <td>1</td>\n",
       "      <td>1</td>\n",
       "    </tr>\n",
       "    <tr>\n",
       "      <th>3</th>\n",
       "      <td>49</td>\n",
       "      <td>3</td>\n",
       "      <td>1</td>\n",
       "      <td>800000</td>\n",
       "      <td>1</td>\n",
       "      <td>1</td>\n",
       "    </tr>\n",
       "    <tr>\n",
       "      <th>4</th>\n",
       "      <td>50</td>\n",
       "      <td>5</td>\n",
       "      <td>3</td>\n",
       "      <td>1200000</td>\n",
       "      <td>1</td>\n",
       "      <td>1</td>\n",
       "    </tr>\n",
       "  </tbody>\n",
       "</table>\n",
       "</div>"
      ],
      "text/plain": [
       "   umur  anggota keluarga  jumlah tanggungan pendidikan     gaji  L  menikah\n",
       "0    40                 4                             1  1450000  1        1\n",
       "1    55                 3                             1   700000  1        1\n",
       "2    43                 4                             2  1600000  1        1\n",
       "3    49                 3                             1   800000  1        1\n",
       "4    50                 5                             3  1200000  1        1"
      ]
     },
     "execution_count": 127,
     "metadata": {},
     "output_type": "execute_result"
    }
   ],
   "source": [
    "X_train.drop(['jenis kelamin','status pernikahan','P','tidak menikah'],axis='columns',inplace=True)\n",
    "X_train.head()"
   ]
  },
  {
   "cell_type": "code",
   "execution_count": 128,
   "id": "3fe817c6",
   "metadata": {},
   "outputs": [
    {
     "data": {
      "text/html": [
       "<div>\n",
       "<style scoped>\n",
       "    .dataframe tbody tr th:only-of-type {\n",
       "        vertical-align: middle;\n",
       "    }\n",
       "\n",
       "    .dataframe tbody tr th {\n",
       "        vertical-align: top;\n",
       "    }\n",
       "\n",
       "    .dataframe thead th {\n",
       "        text-align: right;\n",
       "    }\n",
       "</style>\n",
       "<table border=\"1\" class=\"dataframe\">\n",
       "  <thead>\n",
       "    <tr style=\"text-align: right;\">\n",
       "      <th></th>\n",
       "      <th>jenis kelamin</th>\n",
       "      <th>umur</th>\n",
       "      <th>status pernikahan</th>\n",
       "      <th>anggota keluarga</th>\n",
       "      <th>jumlah tanggungan pendidikan</th>\n",
       "      <th>gaji</th>\n",
       "    </tr>\n",
       "  </thead>\n",
       "  <tbody>\n",
       "    <tr>\n",
       "      <th>0</th>\n",
       "      <td>P</td>\n",
       "      <td>52</td>\n",
       "      <td>tidak menikah</td>\n",
       "      <td>3</td>\n",
       "      <td>2</td>\n",
       "      <td>900000</td>\n",
       "    </tr>\n",
       "    <tr>\n",
       "      <th>1</th>\n",
       "      <td>L</td>\n",
       "      <td>44</td>\n",
       "      <td>menikah</td>\n",
       "      <td>3</td>\n",
       "      <td>1</td>\n",
       "      <td>1200000</td>\n",
       "    </tr>\n",
       "    <tr>\n",
       "      <th>2</th>\n",
       "      <td>L</td>\n",
       "      <td>30</td>\n",
       "      <td>menikah</td>\n",
       "      <td>2</td>\n",
       "      <td>0</td>\n",
       "      <td>1400000</td>\n",
       "    </tr>\n",
       "    <tr>\n",
       "      <th>3</th>\n",
       "      <td>L</td>\n",
       "      <td>35</td>\n",
       "      <td>menikah</td>\n",
       "      <td>4</td>\n",
       "      <td>1</td>\n",
       "      <td>1750000</td>\n",
       "    </tr>\n",
       "    <tr>\n",
       "      <th>4</th>\n",
       "      <td>L</td>\n",
       "      <td>29</td>\n",
       "      <td>menikah</td>\n",
       "      <td>2</td>\n",
       "      <td>0</td>\n",
       "      <td>2500000</td>\n",
       "    </tr>\n",
       "  </tbody>\n",
       "</table>\n",
       "</div>"
      ],
      "text/plain": [
       "  jenis kelamin  umur status pernikahan  anggota keluarga  \\\n",
       "0             P    52     tidak menikah                 3   \n",
       "1             L    44           menikah                 3   \n",
       "2             L    30           menikah                 2   \n",
       "3             L    35           menikah                 4   \n",
       "4             L    29           menikah                 2   \n",
       "\n",
       "   jumlah tanggungan pendidikan     gaji  \n",
       "0                             2   900000  \n",
       "1                             1  1200000  \n",
       "2                             0  1400000  \n",
       "3                             1  1750000  \n",
       "4                             0  2500000  "
      ]
     },
     "execution_count": 128,
     "metadata": {},
     "output_type": "execute_result"
    }
   ],
   "source": [
    "X_test.head()"
   ]
  },
  {
   "cell_type": "code",
   "execution_count": 129,
   "id": "248507d0",
   "metadata": {},
   "outputs": [
    {
     "data": {
      "text/html": [
       "<div>\n",
       "<style scoped>\n",
       "    .dataframe tbody tr th:only-of-type {\n",
       "        vertical-align: middle;\n",
       "    }\n",
       "\n",
       "    .dataframe tbody tr th {\n",
       "        vertical-align: top;\n",
       "    }\n",
       "\n",
       "    .dataframe thead th {\n",
       "        text-align: right;\n",
       "    }\n",
       "</style>\n",
       "<table border=\"1\" class=\"dataframe\">\n",
       "  <thead>\n",
       "    <tr style=\"text-align: right;\">\n",
       "      <th></th>\n",
       "      <th>jenis kelamin</th>\n",
       "      <th>umur</th>\n",
       "      <th>status pernikahan</th>\n",
       "      <th>anggota keluarga</th>\n",
       "      <th>jumlah tanggungan pendidikan</th>\n",
       "      <th>gaji</th>\n",
       "      <th>L</th>\n",
       "      <th>P</th>\n",
       "      <th>menikah</th>\n",
       "      <th>tidak menikah</th>\n",
       "    </tr>\n",
       "  </thead>\n",
       "  <tbody>\n",
       "    <tr>\n",
       "      <th>0</th>\n",
       "      <td>P</td>\n",
       "      <td>52</td>\n",
       "      <td>tidak menikah</td>\n",
       "      <td>3</td>\n",
       "      <td>2</td>\n",
       "      <td>900000</td>\n",
       "      <td>0</td>\n",
       "      <td>1</td>\n",
       "      <td>0</td>\n",
       "      <td>1</td>\n",
       "    </tr>\n",
       "    <tr>\n",
       "      <th>1</th>\n",
       "      <td>L</td>\n",
       "      <td>44</td>\n",
       "      <td>menikah</td>\n",
       "      <td>3</td>\n",
       "      <td>1</td>\n",
       "      <td>1200000</td>\n",
       "      <td>1</td>\n",
       "      <td>0</td>\n",
       "      <td>1</td>\n",
       "      <td>0</td>\n",
       "    </tr>\n",
       "    <tr>\n",
       "      <th>2</th>\n",
       "      <td>L</td>\n",
       "      <td>30</td>\n",
       "      <td>menikah</td>\n",
       "      <td>2</td>\n",
       "      <td>0</td>\n",
       "      <td>1400000</td>\n",
       "      <td>1</td>\n",
       "      <td>0</td>\n",
       "      <td>1</td>\n",
       "      <td>0</td>\n",
       "    </tr>\n",
       "  </tbody>\n",
       "</table>\n",
       "</div>"
      ],
      "text/plain": [
       "  jenis kelamin  umur status pernikahan  anggota keluarga  \\\n",
       "0             P    52     tidak menikah                 3   \n",
       "1             L    44           menikah                 3   \n",
       "2             L    30           menikah                 2   \n",
       "\n",
       "   jumlah tanggungan pendidikan     gaji  L  P  menikah  tidak menikah  \n",
       "0                             2   900000  0  1        0              1  \n",
       "1                             1  1200000  1  0        1              0  \n",
       "2                             0  1400000  1  0        1              0  "
      ]
     },
     "execution_count": 129,
     "metadata": {},
     "output_type": "execute_result"
    }
   ],
   "source": [
    "jk_dummies = pd.get_dummies(X_test['jenis kelamin'])\n",
    "sp_dummies = pd.get_dummies(X_test['status pernikahan'])\n",
    "X_test = pd.concat([X_test,jk_dummies,sp_dummies],axis='columns')\n",
    "X_test.head(3)"
   ]
  },
  {
   "cell_type": "code",
   "execution_count": 130,
   "id": "0a521aaa",
   "metadata": {},
   "outputs": [
    {
     "data": {
      "text/html": [
       "<div>\n",
       "<style scoped>\n",
       "    .dataframe tbody tr th:only-of-type {\n",
       "        vertical-align: middle;\n",
       "    }\n",
       "\n",
       "    .dataframe tbody tr th {\n",
       "        vertical-align: top;\n",
       "    }\n",
       "\n",
       "    .dataframe thead th {\n",
       "        text-align: right;\n",
       "    }\n",
       "</style>\n",
       "<table border=\"1\" class=\"dataframe\">\n",
       "  <thead>\n",
       "    <tr style=\"text-align: right;\">\n",
       "      <th></th>\n",
       "      <th>umur</th>\n",
       "      <th>anggota keluarga</th>\n",
       "      <th>jumlah tanggungan pendidikan</th>\n",
       "      <th>gaji</th>\n",
       "      <th>L</th>\n",
       "      <th>menikah</th>\n",
       "    </tr>\n",
       "  </thead>\n",
       "  <tbody>\n",
       "    <tr>\n",
       "      <th>0</th>\n",
       "      <td>52</td>\n",
       "      <td>3</td>\n",
       "      <td>2</td>\n",
       "      <td>900000</td>\n",
       "      <td>0</td>\n",
       "      <td>0</td>\n",
       "    </tr>\n",
       "    <tr>\n",
       "      <th>1</th>\n",
       "      <td>44</td>\n",
       "      <td>3</td>\n",
       "      <td>1</td>\n",
       "      <td>1200000</td>\n",
       "      <td>1</td>\n",
       "      <td>1</td>\n",
       "    </tr>\n",
       "    <tr>\n",
       "      <th>2</th>\n",
       "      <td>30</td>\n",
       "      <td>2</td>\n",
       "      <td>0</td>\n",
       "      <td>1400000</td>\n",
       "      <td>1</td>\n",
       "      <td>1</td>\n",
       "    </tr>\n",
       "    <tr>\n",
       "      <th>3</th>\n",
       "      <td>35</td>\n",
       "      <td>4</td>\n",
       "      <td>1</td>\n",
       "      <td>1750000</td>\n",
       "      <td>1</td>\n",
       "      <td>1</td>\n",
       "    </tr>\n",
       "    <tr>\n",
       "      <th>4</th>\n",
       "      <td>29</td>\n",
       "      <td>2</td>\n",
       "      <td>0</td>\n",
       "      <td>2500000</td>\n",
       "      <td>1</td>\n",
       "      <td>1</td>\n",
       "    </tr>\n",
       "  </tbody>\n",
       "</table>\n",
       "</div>"
      ],
      "text/plain": [
       "   umur  anggota keluarga  jumlah tanggungan pendidikan     gaji  L  menikah\n",
       "0    52                 3                             2   900000  0        0\n",
       "1    44                 3                             1  1200000  1        1\n",
       "2    30                 2                             0  1400000  1        1\n",
       "3    35                 4                             1  1750000  1        1\n",
       "4    29                 2                             0  2500000  1        1"
      ]
     },
     "execution_count": 130,
     "metadata": {},
     "output_type": "execute_result"
    }
   ],
   "source": [
    "X_test.drop(['jenis kelamin','status pernikahan','P','tidak menikah'],axis='columns',inplace=True)\n",
    "X_test.head()"
   ]
  },
  {
   "cell_type": "code",
   "execution_count": 131,
   "id": "9049411f",
   "metadata": {},
   "outputs": [
    {
     "data": {
      "text/html": [
       "<div>\n",
       "<style scoped>\n",
       "    .dataframe tbody tr th:only-of-type {\n",
       "        vertical-align: middle;\n",
       "    }\n",
       "\n",
       "    .dataframe tbody tr th {\n",
       "        vertical-align: top;\n",
       "    }\n",
       "\n",
       "    .dataframe thead th {\n",
       "        text-align: right;\n",
       "    }\n",
       "</style>\n",
       "<table border=\"1\" class=\"dataframe\">\n",
       "  <thead>\n",
       "    <tr style=\"text-align: right;\">\n",
       "      <th></th>\n",
       "      <th>umur</th>\n",
       "      <th>anggota keluarga</th>\n",
       "      <th>jumlah tanggungan pendidikan</th>\n",
       "      <th>gaji</th>\n",
       "      <th>L</th>\n",
       "      <th>menikah</th>\n",
       "    </tr>\n",
       "  </thead>\n",
       "  <tbody>\n",
       "    <tr>\n",
       "      <th>0</th>\n",
       "      <td>0.368421</td>\n",
       "      <td>0.444444</td>\n",
       "      <td>0.2</td>\n",
       "      <td>0.03625</td>\n",
       "      <td>1</td>\n",
       "      <td>1</td>\n",
       "    </tr>\n",
       "    <tr>\n",
       "      <th>1</th>\n",
       "      <td>0.631579</td>\n",
       "      <td>0.333333</td>\n",
       "      <td>0.2</td>\n",
       "      <td>0.01750</td>\n",
       "      <td>1</td>\n",
       "      <td>1</td>\n",
       "    </tr>\n",
       "    <tr>\n",
       "      <th>2</th>\n",
       "      <td>0.421053</td>\n",
       "      <td>0.444444</td>\n",
       "      <td>0.4</td>\n",
       "      <td>0.04000</td>\n",
       "      <td>1</td>\n",
       "      <td>1</td>\n",
       "    </tr>\n",
       "    <tr>\n",
       "      <th>3</th>\n",
       "      <td>0.526316</td>\n",
       "      <td>0.333333</td>\n",
       "      <td>0.2</td>\n",
       "      <td>0.02000</td>\n",
       "      <td>1</td>\n",
       "      <td>1</td>\n",
       "    </tr>\n",
       "    <tr>\n",
       "      <th>4</th>\n",
       "      <td>0.543860</td>\n",
       "      <td>0.555556</td>\n",
       "      <td>0.6</td>\n",
       "      <td>0.03000</td>\n",
       "      <td>1</td>\n",
       "      <td>1</td>\n",
       "    </tr>\n",
       "  </tbody>\n",
       "</table>\n",
       "</div>"
      ],
      "text/plain": [
       "       umur  anggota keluarga  jumlah tanggungan pendidikan     gaji  L  \\\n",
       "0  0.368421          0.444444                           0.2  0.03625  1   \n",
       "1  0.631579          0.333333                           0.2  0.01750  1   \n",
       "2  0.421053          0.444444                           0.4  0.04000  1   \n",
       "3  0.526316          0.333333                           0.2  0.02000  1   \n",
       "4  0.543860          0.555556                           0.6  0.03000  1   \n",
       "\n",
       "   menikah  \n",
       "0        1  \n",
       "1        1  \n",
       "2        1  \n",
       "3        1  \n",
       "4        1  "
      ]
     },
     "execution_count": 131,
     "metadata": {},
     "output_type": "execute_result"
    }
   ],
   "source": [
    "# 1.\tnormalisasikan dataset iris menggunakan normalisasi minmax\n",
    "from sklearn.preprocessing import MinMaxScaler\n",
    "scaler = MinMaxScaler()\n",
    "scaler.fit(X_train[['umur']])\n",
    "X_train['umur'] = scaler.transform(X_train[['umur']])\n",
    "\n",
    "scaler.fit(X_train[['anggota keluarga']])\n",
    "X_train['anggota keluarga'] = scaler.transform(X_train[['anggota keluarga']])\n",
    "\n",
    "scaler.fit(X_train[['jumlah tanggungan pendidikan']])\n",
    "X_train['jumlah tanggungan pendidikan'] = scaler.transform(X_train[['jumlah tanggungan pendidikan']])\n",
    "\n",
    "scaler.fit(X_train[['gaji']])\n",
    "X_train['gaji'] = scaler.transform(X_train[['gaji']])\n",
    "\n",
    "\n",
    "X_train.head()\n"
   ]
  },
  {
   "cell_type": "code",
   "execution_count": 132,
   "id": "598c9ca8",
   "metadata": {},
   "outputs": [
    {
     "data": {
      "text/html": [
       "<div>\n",
       "<style scoped>\n",
       "    .dataframe tbody tr th:only-of-type {\n",
       "        vertical-align: middle;\n",
       "    }\n",
       "\n",
       "    .dataframe tbody tr th {\n",
       "        vertical-align: top;\n",
       "    }\n",
       "\n",
       "    .dataframe thead th {\n",
       "        text-align: right;\n",
       "    }\n",
       "</style>\n",
       "<table border=\"1\" class=\"dataframe\">\n",
       "  <thead>\n",
       "    <tr style=\"text-align: right;\">\n",
       "      <th></th>\n",
       "      <th>umur</th>\n",
       "      <th>anggota keluarga</th>\n",
       "      <th>jumlah tanggungan pendidikan</th>\n",
       "      <th>gaji</th>\n",
       "      <th>L</th>\n",
       "      <th>menikah</th>\n",
       "    </tr>\n",
       "  </thead>\n",
       "  <tbody>\n",
       "    <tr>\n",
       "      <th>0</th>\n",
       "      <td>0.525424</td>\n",
       "      <td>0.50</td>\n",
       "      <td>0.666667</td>\n",
       "      <td>0.072</td>\n",
       "      <td>0</td>\n",
       "      <td>0</td>\n",
       "    </tr>\n",
       "    <tr>\n",
       "      <th>1</th>\n",
       "      <td>0.389831</td>\n",
       "      <td>0.50</td>\n",
       "      <td>0.333333</td>\n",
       "      <td>0.096</td>\n",
       "      <td>1</td>\n",
       "      <td>1</td>\n",
       "    </tr>\n",
       "    <tr>\n",
       "      <th>2</th>\n",
       "      <td>0.152542</td>\n",
       "      <td>0.25</td>\n",
       "      <td>0.000000</td>\n",
       "      <td>0.112</td>\n",
       "      <td>1</td>\n",
       "      <td>1</td>\n",
       "    </tr>\n",
       "    <tr>\n",
       "      <th>3</th>\n",
       "      <td>0.237288</td>\n",
       "      <td>0.75</td>\n",
       "      <td>0.333333</td>\n",
       "      <td>0.140</td>\n",
       "      <td>1</td>\n",
       "      <td>1</td>\n",
       "    </tr>\n",
       "    <tr>\n",
       "      <th>4</th>\n",
       "      <td>0.135593</td>\n",
       "      <td>0.25</td>\n",
       "      <td>0.000000</td>\n",
       "      <td>0.200</td>\n",
       "      <td>1</td>\n",
       "      <td>1</td>\n",
       "    </tr>\n",
       "  </tbody>\n",
       "</table>\n",
       "</div>"
      ],
      "text/plain": [
       "       umur  anggota keluarga  jumlah tanggungan pendidikan   gaji  L  menikah\n",
       "0  0.525424              0.50                      0.666667  0.072  0        0\n",
       "1  0.389831              0.50                      0.333333  0.096  1        1\n",
       "2  0.152542              0.25                      0.000000  0.112  1        1\n",
       "3  0.237288              0.75                      0.333333  0.140  1        1\n",
       "4  0.135593              0.25                      0.000000  0.200  1        1"
      ]
     },
     "execution_count": 132,
     "metadata": {},
     "output_type": "execute_result"
    }
   ],
   "source": [
    "# 1.\tnormalisasikan dataset iris menggunakan normalisasi minmax\n",
    "from sklearn.preprocessing import MinMaxScaler\n",
    "scaler = MinMaxScaler()\n",
    "scaler.fit(X_test[['umur']])\n",
    "X_test['umur'] = scaler.transform(X_test[['umur']])\n",
    "\n",
    "scaler.fit(X_test[['anggota keluarga']])\n",
    "X_test['anggota keluarga'] = scaler.transform(X_test[['anggota keluarga']])\n",
    "\n",
    "scaler.fit(X_test[['jumlah tanggungan pendidikan']])\n",
    "X_test['jumlah tanggungan pendidikan'] = scaler.transform(X_test[['jumlah tanggungan pendidikan']])\n",
    "\n",
    "scaler.fit(X_test[['gaji']])\n",
    "X_test['gaji'] = scaler.transform(X_test[['gaji']])\n",
    "\n",
    "\n",
    "X_test.head()\n"
   ]
  },
  {
   "cell_type": "raw",
   "id": "e7387b5f",
   "metadata": {},
   "source": [
    "X_train = X_train.drop(\"Id\", axis = 1)\n",
    "Y_train = Y_train.drop(\"Id\", axis = 1)\n",
    "X_test = X_test.drop(\"Id\", axis = 1)\n",
    "Y_test = Y_test.drop(\"Id\", axis = 1)"
   ]
  },
  {
   "cell_type": "code",
   "execution_count": 133,
   "id": "novel-reform",
   "metadata": {},
   "outputs": [],
   "source": [
    "X_train = X_train.values\n",
    "Y_train = Y_train.values\n",
    "X_test = X_test.values\n",
    "Y_test = Y_test.values"
   ]
  },
  {
   "cell_type": "code",
   "execution_count": 134,
   "id": "inside-addition",
   "metadata": {},
   "outputs": [],
   "source": [
    "X_train = X_train.T\n",
    "Y_train = Y_train.reshape(1, X_train.shape[1])\n",
    "\n",
    "X_test = X_test.T\n",
    "Y_test = Y_test.reshape(1, X_test.shape[1])"
   ]
  },
  {
   "cell_type": "code",
   "execution_count": 135,
   "id": "f64a175c",
   "metadata": {},
   "outputs": [
    {
     "data": {
      "text/plain": [
       "array([[0.36842105, 0.63157895, 0.42105263, 0.52631579, 0.54385965,\n",
       "        0.84210526, 0.45614035, 0.19298246, 0.61403509, 0.61403509,\n",
       "        0.31578947, 0.10526316, 0.52631579, 0.38596491, 0.57894737,\n",
       "        0.68421053, 0.56140351, 1.        , 0.45614035, 0.85964912,\n",
       "        0.77192982, 0.71929825, 0.66666667, 0.05263158, 0.50877193,\n",
       "        0.71929825, 0.92982456, 1.        , 0.40350877, 0.33333333,\n",
       "        0.03508772, 0.59649123, 0.59649123, 0.        , 0.52631579,\n",
       "        0.57894737, 0.47368421, 0.45614035, 0.01754386, 0.        ,\n",
       "        0.47368421, 0.05263158],\n",
       "       [0.44444444, 0.33333333, 0.44444444, 0.33333333, 0.55555556,\n",
       "        0.11111111, 0.33333333, 0.33333333, 0.22222222, 0.44444444,\n",
       "        0.44444444, 0.11111111, 0.33333333, 0.44444444, 0.44444444,\n",
       "        0.        , 0.44444444, 0.11111111, 0.44444444, 0.22222222,\n",
       "        0.55555556, 0.22222222, 0.33333333, 0.        , 0.55555556,\n",
       "        0.        , 0.22222222, 0.11111111, 0.55555556, 0.33333333,\n",
       "        0.44444444, 0.44444444, 0.77777778, 0.44444444, 0.33333333,\n",
       "        0.44444444, 0.44444444, 0.44444444, 0.33333333, 0.44444444,\n",
       "        0.44444444, 1.        ],\n",
       "       [0.2       , 0.2       , 0.4       , 0.2       , 0.6       ,\n",
       "        0.        , 0.4       , 0.2       , 0.2       , 0.4       ,\n",
       "        0.4       , 0.        , 0.2       , 0.4       , 0.2       ,\n",
       "        0.        , 0.2       , 0.        , 0.4       , 0.        ,\n",
       "        0.6       , 0.2       , 0.2       , 0.        , 0.6       ,\n",
       "        0.        , 0.        , 0.        , 0.4       , 0.        ,\n",
       "        0.4       , 0.2       , 0.8       , 0.4       , 0.2       ,\n",
       "        0.2       , 0.2       , 0.6       , 0.4       , 0.2       ,\n",
       "        0.2       , 1.        ],\n",
       "       [0.03625   , 0.0175    , 0.04      , 0.02      , 0.03      ,\n",
       "        0.0125    , 0.01625   , 0.1125    , 0.02375   , 0.03125   ,\n",
       "        0.0325    , 0.0425    , 0.015     , 0.025     , 0.00625   ,\n",
       "        0.        , 0.5       , 0.075     , 1.        , 0.1       ,\n",
       "        0.075     , 0.0875    , 0.0625    , 0.085     , 0.045     ,\n",
       "        0.025     , 0.0625    , 0.045     , 0.00625   , 0.055     ,\n",
       "        0.075     , 0.1       , 0.125     , 0.075     , 0.05      ,\n",
       "        0.05      , 0.0475    , 0.0625    , 0.1125    , 0.045     ,\n",
       "        0.0575    , 0.1       ],\n",
       "       [1.        , 1.        , 1.        , 1.        , 1.        ,\n",
       "        0.        , 0.        , 1.        , 0.        , 1.        ,\n",
       "        1.        , 1.        , 0.        , 1.        , 0.        ,\n",
       "        1.        , 1.        , 0.        , 1.        , 1.        ,\n",
       "        1.        , 1.        , 1.        , 1.        , 1.        ,\n",
       "        0.        , 1.        , 0.        , 1.        , 0.        ,\n",
       "        0.        , 1.        , 1.        , 0.        , 1.        ,\n",
       "        0.        , 0.        , 1.        , 1.        , 1.        ,\n",
       "        1.        , 1.        ],\n",
       "       [1.        , 1.        , 1.        , 1.        , 1.        ,\n",
       "        0.        , 0.        , 1.        , 0.        , 1.        ,\n",
       "        1.        , 0.        , 0.        , 1.        , 1.        ,\n",
       "        0.        , 1.        , 0.        , 1.        , 1.        ,\n",
       "        1.        , 1.        , 1.        , 0.        , 1.        ,\n",
       "        0.        , 1.        , 0.        , 1.        , 0.        ,\n",
       "        0.        , 1.        , 1.        , 0.        , 1.        ,\n",
       "        1.        , 1.        , 1.        , 0.        , 0.        ,\n",
       "        1.        , 0.        ]])"
      ]
     },
     "execution_count": 135,
     "metadata": {},
     "output_type": "execute_result"
    }
   ],
   "source": [
    "X_train"
   ]
  },
  {
   "cell_type": "code",
   "execution_count": 136,
   "id": "accessible-force",
   "metadata": {},
   "outputs": [
    {
     "name": "stdout",
     "output_type": "stream",
     "text": [
      "Shape of X_train :  (6, 42)\n",
      "Shape of Y_train :  (1, 42)\n",
      "Shape of X_test :  (6, 18)\n",
      "Shape of Y_test :  (1, 18)\n"
     ]
    }
   ],
   "source": [
    "print(\"Shape of X_train : \", X_train.shape)\n",
    "print(\"Shape of Y_train : \", Y_train.shape)\n",
    "print(\"Shape of X_test : \", X_test.shape)\n",
    "print(\"Shape of Y_test : \", Y_test.shape)"
   ]
  },
  {
   "cell_type": "markdown",
   "id": "ambient-dimension",
   "metadata": {},
   "source": [
    "# Logistic Regression Overview :\n",
    "\n",
    "## Equations :\n",
    "\n",
    "$ W = \\begin{bmatrix}w_1 \\\\ w_2 \\\\ . \\\\ . \\\\ w_n \\end{bmatrix}_{ n x 1}$ ......... initialize with zeros\n",
    "\n",
    "$ B = single$  $weight/parameter $\n",
    "\n",
    "$ X = \\begin{bmatrix}. & . & .  \\\\ .  & . & .  \\\\ . & . & .  \\\\ . & . & .  \\\\ \\end{bmatrix}_{n x m}$\n",
    "\n",
    "$ Y = \\begin{bmatrix}. & . & . & . & . \\end{bmatrix}_{1 x m}$\n",
    "\n",
    "\n",
    "$\\sigma = \\frac{1}{(1 + e^{-x})}  $   ......... (sigmoid function)\n",
    "\n",
    "\n",
    "A = $\\sigma ( W^T*X + b ) $    ........ (probabilistic predictions of shape (1 x m ) )\n",
    "\n",
    "<img src = \"sigmoid.png\" width = 400px>\n",
    "\n",
    "\n",
    "## Cost function :\n",
    "\n",
    "$ cost = - \\frac{1}{m} \\sum_{i=1}^m [ y*log(a) + (1 - y)*log(1 - a) ] $\n",
    "\n",
    "## Gradient Descent \n",
    "\n",
    "$dW = \\frac{\\partial COST }{\\partial W} = ( A - Y )*X^T $ ...... shape (1 x n) \n",
    "\n",
    "$dB = \\frac{\\partial COST }{\\partial B} = ( A - Y ) $\n",
    "\n",
    "$W = W - \\alpha * dW^T $\n",
    "\n",
    "$B = B - \\alpha * dB $\n",
    "\n",
    "\n",
    "<img src = \"gradient-descent.png\" width = 300px>"
   ]
  },
  {
   "cell_type": "code",
   "execution_count": 137,
   "id": "b59cd896",
   "metadata": {},
   "outputs": [
    {
     "name": "stdout",
     "output_type": "stream",
     "text": [
      "[[0.]\n",
      " [0.]\n",
      " [0.]\n",
      " [0.]\n",
      " [0.]\n",
      " [0.]]\n"
     ]
    }
   ],
   "source": [
    "print(np.array(np.zeros((6,1)),dtype=np.float64))"
   ]
  },
  {
   "cell_type": "code",
   "execution_count": 138,
   "id": "ebe283d5",
   "metadata": {},
   "outputs": [
    {
     "name": "stdout",
     "output_type": "stream",
     "text": [
      "[[0.]\n",
      " [0.]\n",
      " [0.]\n",
      " [0.]\n",
      " [0.]\n",
      " [0.]]\n"
     ]
    }
   ],
   "source": [
    "print(np.zeros((6,1)))"
   ]
  },
  {
   "cell_type": "code",
   "execution_count": 139,
   "id": "f132c821",
   "metadata": {},
   "outputs": [
    {
     "ename": "NameError",
     "evalue": "name 'X' is not defined",
     "output_type": "error",
     "traceback": [
      "\u001b[1;31m---------------------------------------------------------------------------\u001b[0m",
      "\u001b[1;31mNameError\u001b[0m                                 Traceback (most recent call last)",
      "\u001b[1;32m~\\AppData\\Local\\Temp/ipykernel_11880/3064281156.py\u001b[0m in \u001b[0;36m<module>\u001b[1;34m\u001b[0m\n\u001b[1;32m----> 1\u001b[1;33m \u001b[0mprint\u001b[0m\u001b[1;33m(\u001b[0m\u001b[0mZ\u001b[0m \u001b[1;33m=\u001b[0m \u001b[0mnp\u001b[0m\u001b[1;33m.\u001b[0m\u001b[0mdot\u001b[0m\u001b[1;33m(\u001b[0m\u001b[0mnp\u001b[0m\u001b[1;33m.\u001b[0m\u001b[0marray\u001b[0m\u001b[1;33m(\u001b[0m\u001b[0mnp\u001b[0m\u001b[1;33m.\u001b[0m\u001b[0mzeros\u001b[0m\u001b[1;33m(\u001b[0m\u001b[1;33m(\u001b[0m\u001b[1;36m6\u001b[0m\u001b[1;33m,\u001b[0m\u001b[1;36m1\u001b[0m\u001b[1;33m)\u001b[0m\u001b[1;33m)\u001b[0m\u001b[1;33m,\u001b[0m\u001b[0mdtype\u001b[0m\u001b[1;33m=\u001b[0m\u001b[0mnp\u001b[0m\u001b[1;33m.\u001b[0m\u001b[0mfloat64\u001b[0m\u001b[1;33m)\u001b[0m\u001b[1;33m.\u001b[0m\u001b[0mT\u001b[0m\u001b[1;33m,\u001b[0m \u001b[0mX\u001b[0m\u001b[1;33m)\u001b[0m \u001b[1;33m+\u001b[0m \u001b[0mB\u001b[0m\u001b[1;33m)\u001b[0m\u001b[1;33m\u001b[0m\u001b[1;33m\u001b[0m\u001b[0m\n\u001b[0m",
      "\u001b[1;31mNameError\u001b[0m: name 'X' is not defined"
     ]
    }
   ],
   "source": [
    "print(Z = np.dot(np.array(np.zeros((6,1)),dtype=np.float64).T, X) + B)"
   ]
  },
  {
   "cell_type": "code",
   "execution_count": 140,
   "id": "03a4bb2b",
   "metadata": {},
   "outputs": [
    {
     "name": "stdout",
     "output_type": "stream",
     "text": [
      "[[0.]\n",
      " [0.]\n",
      " [0.]\n",
      " [0.]\n",
      " [0.]\n",
      " [0.]]\n"
     ]
    }
   ],
   "source": [
    "print(np.zeros((6,1)))"
   ]
  },
  {
   "cell_type": "markdown",
   "id": "rotary-reputation",
   "metadata": {},
   "source": [
    "# Model"
   ]
  },
  {
   "cell_type": "code",
   "execution_count": 141,
   "id": "removed-nomination",
   "metadata": {},
   "outputs": [],
   "source": [
    "def sigmoid(x):\n",
    "    return 1/(1 + np.exp(-x))"
   ]
  },
  {
   "cell_type": "code",
   "execution_count": 142,
   "id": "b027e002",
   "metadata": {},
   "outputs": [
    {
     "data": {
      "text/plain": [
       "array([0.36842105, 0.63157895, 0.42105263, 0.52631579, 0.54385965,\n",
       "       0.84210526, 0.45614035, 0.19298246, 0.61403509, 0.61403509,\n",
       "       0.31578947, 0.10526316, 0.52631579, 0.38596491, 0.57894737,\n",
       "       0.68421053, 0.56140351, 1.        , 0.45614035, 0.85964912,\n",
       "       0.77192982, 0.71929825, 0.66666667, 0.05263158, 0.50877193,\n",
       "       0.71929825, 0.92982456, 1.        , 0.40350877, 0.33333333,\n",
       "       0.03508772, 0.59649123, 0.59649123, 0.        , 0.52631579,\n",
       "       0.57894737, 0.47368421, 0.45614035, 0.01754386, 0.        ,\n",
       "       0.47368421, 0.05263158])"
      ]
     },
     "execution_count": 142,
     "metadata": {},
     "output_type": "execute_result"
    }
   ],
   "source": [
    "X_train[0]"
   ]
  },
  {
   "cell_type": "code",
   "execution_count": 143,
   "id": "601015a6",
   "metadata": {},
   "outputs": [
    {
     "data": {
      "text/plain": [
       "array([[0., 0., 0., 0., 0., 0., 0., 0., 0., 0., 0., 0., 0., 0., 0., 0.,\n",
       "        0., 0., 0., 0., 0., 0., 0., 0., 0., 0., 0., 0., 0., 0., 0., 0.,\n",
       "        0., 0., 0., 0., 0., 0., 0., 0., 0., 0.]])"
      ]
     },
     "execution_count": 143,
     "metadata": {},
     "output_type": "execute_result"
    }
   ],
   "source": [
    "m = X_train.shape[1]\n",
    "n = X_train.shape[0]\n",
    "\n",
    "W = np.zeros((n,1))\n",
    "B = 0\n",
    "Z = np.dot(W.T, X_train) + 0\n",
    "Z"
   ]
  },
  {
   "cell_type": "code",
   "execution_count": 144,
   "id": "8633a84c",
   "metadata": {},
   "outputs": [
    {
     "name": "stdout",
     "output_type": "stream",
     "text": [
      "[[0.5 0.5 0.5 0.5 0.5 0.5 0.5 0.5 0.5 0.5 0.5 0.5 0.5 0.5 0.5 0.5 0.5 0.5\n",
      "  0.5 0.5 0.5 0.5 0.5 0.5 0.5 0.5 0.5 0.5 0.5 0.5 0.5 0.5 0.5 0.5 0.5 0.5\n",
      "  0.5 0.5 0.5 0.5 0.5 0.5]]\n"
     ]
    }
   ],
   "source": [
    "A = sigmoid(Z)\n",
    "print(A)"
   ]
  },
  {
   "cell_type": "code",
   "execution_count": 145,
   "id": "35d5cf9b",
   "metadata": {},
   "outputs": [
    {
     "name": "stdout",
     "output_type": "stream",
     "text": [
      "0.6931471805599452\n"
     ]
    }
   ],
   "source": [
    "cost = -(1/m)*np.sum( Y_train*np.log(A) + (1-Y_train)*np.log(1-A))\n",
    "print(cost)"
   ]
  },
  {
   "cell_type": "code",
   "execution_count": 146,
   "id": "996c58cc",
   "metadata": {},
   "outputs": [],
   "source": [
    "dW = (1/m)*np.dot(A-Y_train, X_train.T)\n",
    "dB = (1/m)*np.sum(A - Y_train)\n",
    "\n",
    "W = W - 0.0015*dW.T\n",
    "B = B - 0.0015*dB"
   ]
  },
  {
   "cell_type": "code",
   "execution_count": 147,
   "id": "eb61afb6",
   "metadata": {},
   "outputs": [
    {
     "data": {
      "text/plain": [
       "array([[ 7.58145363e-05],\n",
       "       [-1.38888889e-05],\n",
       "       [-2.50000000e-05],\n",
       "       [-3.65625000e-05],\n",
       "       [-1.25000000e-04],\n",
       "       [-3.57142857e-05]])"
      ]
     },
     "execution_count": 147,
     "metadata": {},
     "output_type": "execute_result"
    }
   ],
   "source": [
    "W"
   ]
  },
  {
   "cell_type": "code",
   "execution_count": 148,
   "id": "13fb8be4",
   "metadata": {},
   "outputs": [
    {
     "data": {
      "text/plain": [
       "array([[ 7.58145363e-05, -1.38888889e-05, -2.50000000e-05,\n",
       "        -3.65625000e-05, -1.25000000e-04, -3.57142857e-05]])"
      ]
     },
     "execution_count": 148,
     "metadata": {},
     "output_type": "execute_result"
    }
   ],
   "source": [
    "s = W.T\n",
    "s"
   ]
  },
  {
   "cell_type": "code",
   "execution_count": 149,
   "id": "e631fd0d",
   "metadata": {},
   "outputs": [
    {
     "data": {
      "text/plain": [
       "3.571428571428571e-05"
      ]
     },
     "execution_count": 149,
     "metadata": {},
     "output_type": "execute_result"
    }
   ],
   "source": [
    "B"
   ]
  },
  {
   "cell_type": "code",
   "execution_count": 150,
   "id": "ee1775e4",
   "metadata": {},
   "outputs": [
    {
     "data": {
      "text/plain": [
       "array([[-1.09566559e-04, -8.73866083e-05, -1.10713429e-04,\n",
       "        -9.54584921e-05, -1.07580457e-04,  9.75578647e-05,\n",
       "         5.50725847e-05, -1.24112035e-04,  7.33122921e-05,\n",
       "        -9.57626322e-05, -1.18419688e-04, -8.44023529e-05,\n",
       "         6.54386061e-05, -1.12825151e-04,  3.24912712e-05,\n",
       "        -3.74126105e-05, -1.11891543e-04,  1.07243425e-04,\n",
       "        -1.43153270e-04, -6.65687701e-05, -9.19347351e-05,\n",
       "        -8.17523755e-05, -8.63717617e-05, -8.84032880e-05,\n",
       "        -1.10789054e-04,  8.93334862e-05, -5.98773580e-05,\n",
       "         1.08340300e-04, -1.12352735e-04,  5.43452307e-05,\n",
       "         1.94594179e-05, -9.46063836e-05, -1.15150076e-04,\n",
       "         1.67992587e-05, -9.65553671e-05,  3.08916618e-05,\n",
       "         2.30025905e-05, -1.13875927e-04, -1.06698546e-04,\n",
       "        -1.02103866e-04, -1.02363034e-04, -1.27840614e-04]])"
      ]
     },
     "execution_count": 150,
     "metadata": {},
     "output_type": "execute_result"
    }
   ],
   "source": [
    "Z = np.dot(W.T, X_train) + B\n",
    "Z"
   ]
  },
  {
   "cell_type": "code",
   "execution_count": 151,
   "id": "2b94a6bc",
   "metadata": {},
   "outputs": [
    {
     "data": {
      "text/plain": [
       "array([[0.49997261, 0.49997815, 0.49997232, 0.49997614, 0.4999731 ,\n",
       "        0.50002439, 0.50001377, 0.49996897, 0.50001833, 0.49997606,\n",
       "        0.4999704 , 0.4999789 , 0.50001636, 0.49997179, 0.50000812,\n",
       "        0.49999065, 0.49997203, 0.50002681, 0.49996421, 0.49998336,\n",
       "        0.49997702, 0.49997956, 0.49997841, 0.4999779 , 0.4999723 ,\n",
       "        0.50002233, 0.49998503, 0.50002709, 0.49997191, 0.50001359,\n",
       "        0.50000486, 0.49997635, 0.49997121, 0.5000042 , 0.49997586,\n",
       "        0.50000772, 0.50000575, 0.49997153, 0.49997333, 0.49997447,\n",
       "        0.49997441, 0.49996804]])"
      ]
     },
     "execution_count": 151,
     "metadata": {},
     "output_type": "execute_result"
    }
   ],
   "source": [
    "a = 1/(1+np.exp(-Z))\n",
    "a"
   ]
  },
  {
   "cell_type": "code",
   "execution_count": 152,
   "id": "52bb34c2",
   "metadata": {},
   "outputs": [
    {
     "data": {
      "text/plain": [
       "20.68614763742706"
      ]
     },
     "execution_count": 152,
     "metadata": {},
     "output_type": "execute_result"
    }
   ],
   "source": [
    "np.exp(-(-3.02946428))"
   ]
  },
  {
   "cell_type": "code",
   "execution_count": 153,
   "id": "a7d70965",
   "metadata": {},
   "outputs": [
    {
     "name": "stdout",
     "output_type": "stream",
     "text": [
      "[[0.49997261 0.49997815 0.49997232 0.49997614 0.4999731  0.50002439\n",
      "  0.50001377 0.49996897 0.50001833 0.49997606 0.4999704  0.4999789\n",
      "  0.50001636 0.49997179 0.50000812 0.49999065 0.49997203 0.50002681\n",
      "  0.49996421 0.49998336 0.49997702 0.49997956 0.49997841 0.4999779\n",
      "  0.4999723  0.50002233 0.49998503 0.50002709 0.49997191 0.50001359\n",
      "  0.50000486 0.49997635 0.49997121 0.5000042  0.49997586 0.50000772\n",
      "  0.50000575 0.49997153 0.49997333 0.49997447 0.49997441 0.49996804]]\n"
     ]
    }
   ],
   "source": [
    "Z = np.dot(W.T, X_train) + B\n",
    "A = sigmoid(Z)\n",
    "print(A)"
   ]
  },
  {
   "cell_type": "code",
   "execution_count": 154,
   "id": "3bbfc339",
   "metadata": {},
   "outputs": [
    {
     "data": {
      "text/plain": [
       "array([[0.36842105, 0.63157895, 0.42105263, 0.52631579, 0.54385965,\n",
       "        0.84210526, 0.45614035, 0.19298246, 0.61403509, 0.61403509,\n",
       "        0.31578947, 0.10526316, 0.52631579, 0.38596491, 0.57894737,\n",
       "        0.68421053, 0.56140351, 1.        , 0.45614035, 0.85964912,\n",
       "        0.77192982, 0.71929825, 0.66666667, 0.05263158, 0.50877193,\n",
       "        0.71929825, 0.92982456, 1.        , 0.40350877, 0.33333333,\n",
       "        0.03508772, 0.59649123, 0.59649123, 0.        , 0.52631579,\n",
       "        0.57894737, 0.47368421, 0.45614035, 0.01754386, 0.        ,\n",
       "        0.47368421, 0.05263158],\n",
       "       [0.44444444, 0.33333333, 0.44444444, 0.33333333, 0.55555556,\n",
       "        0.11111111, 0.33333333, 0.33333333, 0.22222222, 0.44444444,\n",
       "        0.44444444, 0.11111111, 0.33333333, 0.44444444, 0.44444444,\n",
       "        0.        , 0.44444444, 0.11111111, 0.44444444, 0.22222222,\n",
       "        0.55555556, 0.22222222, 0.33333333, 0.        , 0.55555556,\n",
       "        0.        , 0.22222222, 0.11111111, 0.55555556, 0.33333333,\n",
       "        0.44444444, 0.44444444, 0.77777778, 0.44444444, 0.33333333,\n",
       "        0.44444444, 0.44444444, 0.44444444, 0.33333333, 0.44444444,\n",
       "        0.44444444, 1.        ],\n",
       "       [0.2       , 0.2       , 0.4       , 0.2       , 0.6       ,\n",
       "        0.        , 0.4       , 0.2       , 0.2       , 0.4       ,\n",
       "        0.4       , 0.        , 0.2       , 0.4       , 0.2       ,\n",
       "        0.        , 0.2       , 0.        , 0.4       , 0.        ,\n",
       "        0.6       , 0.2       , 0.2       , 0.        , 0.6       ,\n",
       "        0.        , 0.        , 0.        , 0.4       , 0.        ,\n",
       "        0.4       , 0.2       , 0.8       , 0.4       , 0.2       ,\n",
       "        0.2       , 0.2       , 0.6       , 0.4       , 0.2       ,\n",
       "        0.2       , 1.        ],\n",
       "       [0.03625   , 0.0175    , 0.04      , 0.02      , 0.03      ,\n",
       "        0.0125    , 0.01625   , 0.1125    , 0.02375   , 0.03125   ,\n",
       "        0.0325    , 0.0425    , 0.015     , 0.025     , 0.00625   ,\n",
       "        0.        , 0.5       , 0.075     , 1.        , 0.1       ,\n",
       "        0.075     , 0.0875    , 0.0625    , 0.085     , 0.045     ,\n",
       "        0.025     , 0.0625    , 0.045     , 0.00625   , 0.055     ,\n",
       "        0.075     , 0.1       , 0.125     , 0.075     , 0.05      ,\n",
       "        0.05      , 0.0475    , 0.0625    , 0.1125    , 0.045     ,\n",
       "        0.0575    , 0.1       ],\n",
       "       [1.        , 1.        , 1.        , 1.        , 1.        ,\n",
       "        0.        , 0.        , 1.        , 0.        , 1.        ,\n",
       "        1.        , 1.        , 0.        , 1.        , 0.        ,\n",
       "        1.        , 1.        , 0.        , 1.        , 1.        ,\n",
       "        1.        , 1.        , 1.        , 1.        , 1.        ,\n",
       "        0.        , 1.        , 0.        , 1.        , 0.        ,\n",
       "        0.        , 1.        , 1.        , 0.        , 1.        ,\n",
       "        0.        , 0.        , 1.        , 1.        , 1.        ,\n",
       "        1.        , 1.        ],\n",
       "       [1.        , 1.        , 1.        , 1.        , 1.        ,\n",
       "        0.        , 0.        , 1.        , 0.        , 1.        ,\n",
       "        1.        , 0.        , 0.        , 1.        , 1.        ,\n",
       "        0.        , 1.        , 0.        , 1.        , 1.        ,\n",
       "        1.        , 1.        , 1.        , 0.        , 1.        ,\n",
       "        0.        , 1.        , 0.        , 1.        , 0.        ,\n",
       "        0.        , 1.        , 1.        , 0.        , 1.        ,\n",
       "        1.        , 1.        , 1.        , 0.        , 0.        ,\n",
       "        1.        , 0.        ]])"
      ]
     },
     "execution_count": 154,
     "metadata": {},
     "output_type": "execute_result"
    }
   ],
   "source": [
    "X_train"
   ]
  },
  {
   "cell_type": "code",
   "execution_count": 155,
   "id": "aquatic-berry",
   "metadata": {},
   "outputs": [],
   "source": [
    "def model(X, Y, learning_rate, iterations):\n",
    "    \n",
    "    m = X_train.shape[1]\n",
    "    n = X_train.shape[0]\n",
    "    \n",
    "    W = np.zeros((n,1))\n",
    "    B = 0\n",
    "    \n",
    "    cost_list = []\n",
    "    \n",
    "    for i in range(iterations):\n",
    "        \n",
    "        Z = np.dot(W.T, X) + B\n",
    "        A = sigmoid(Z)\n",
    "        \n",
    "        # cost function\n",
    "        cost = -(1/m)*np.sum( Y*np.log(A) + (1-Y)*np.log(1-A))\n",
    "        \n",
    "        # Gradient Descent\n",
    "        dW = (1/m)*np.dot(A-Y, X.T)\n",
    "        dB = (1/m)*np.sum(A - Y)\n",
    "        \n",
    "        W = W - learning_rate*dW.T\n",
    "        B = B - learning_rate*dB\n",
    "        \n",
    "        # Keeping track of our cost function value\n",
    "        cost_list.append(cost)\n",
    "        \n",
    "        if(i%(iterations/10) == 0):\n",
    "            print(\"cost after \", i, \"iteration is : \", cost)\n",
    "        \n",
    "    return W, B, cost_list\n",
    "        "
   ]
  },
  {
   "cell_type": "code",
   "execution_count": 156,
   "id": "detailed-alert",
   "metadata": {},
   "outputs": [
    {
     "name": "stdout",
     "output_type": "stream",
     "text": [
      "cost after  0 iteration is :  0.6931471805599452\n",
      "cost after  10000 iteration is :  0.599566923049739\n",
      "cost after  20000 iteration is :  0.5673866860654536\n",
      "cost after  30000 iteration is :  0.5526493085270411\n",
      "cost after  40000 iteration is :  0.5443747816699234\n",
      "cost after  50000 iteration is :  0.5389940767093138\n",
      "cost after  60000 iteration is :  0.535096560221123\n",
      "cost after  70000 iteration is :  0.532042441144394\n",
      "cost after  80000 iteration is :  0.5295106523811128\n",
      "cost after  90000 iteration is :  0.5273267620517109\n"
     ]
    }
   ],
   "source": [
    "Iterations = 100000\n",
    "Learning_rate = 0.0015\n",
    "W, B, cost_list = model(X_train, Y_train, learning_rate = Learning_rate, iterations = Iterations)"
   ]
  },
  {
   "cell_type": "markdown",
   "id": "chemical-broadcast",
   "metadata": {},
   "source": [
    "### Cost vs Iteration\n",
    "Plotting graph to see if Cost Function is decreasing or not"
   ]
  },
  {
   "cell_type": "code",
   "execution_count": 157,
   "id": "outstanding-species",
   "metadata": {},
   "outputs": [
    {
     "data": {
      "image/png": "[encoded data removed]",
      "text/plain": [
       "<Figure size 432x288 with 1 Axes>"
      ]
     },
     "metadata": {
      "needs_background": "light"
     },
     "output_type": "display_data"
    }
   ],
   "source": [
    "plt.plot(np.arange(Iterations), cost_list)\n",
    "plt.show()"
   ]
  },
  {
   "cell_type": "markdown",
   "id": "medieval-aircraft",
   "metadata": {},
   "source": [
    "# Testing Model Accuracy"
   ]
  },
  {
   "cell_type": "code",
   "execution_count": 176,
   "id": "continental-realtor",
   "metadata": {},
   "outputs": [],
   "source": [
    "def accuracy(X, Y, W, B):\n",
    "    \n",
    "    Z = np.dot(W.T, X) + B\n",
    "    A = sigmoid(Z)\n",
    "    \n",
    "    A = A > 0.5\n",
    "    A = np.array(A, dtype = 'int64')\n",
    "    acc = (1 - np.sum(np.absolute(A - Y))/Y.shape[1])*100\n",
    "    \n",
    "    print(\"Accuracy of the model is : \", round(acc, 3), \"%\")"
   ]
  },
  {
   "cell_type": "code",
   "execution_count": 165,
   "id": "5eb742a2",
   "metadata": {},
   "outputs": [
    {
     "data": {
      "text/plain": [
       "array([[1, 0, 0, 0, 0, 1, 1, 1, 1, 1, 1, 1, 0, 0, 1, 0, 1, 1]],\n",
       "      dtype=int64)"
      ]
     },
     "execution_count": 165,
     "metadata": {},
     "output_type": "execute_result"
    }
   ],
   "source": []
  },
  {
   "cell_type": "code",
   "execution_count": 177,
   "id": "hungry-deviation",
   "metadata": {},
   "outputs": [
    {
     "name": "stdout",
     "output_type": "stream",
     "text": [
      "Accuracy of the model is :  83.333 %\n"
     ]
    }
   ],
   "source": [
    "accuracy(X_test, Y_test, W, B)"
   ]
  },
  {
   "cell_type": "markdown",
   "id": "handed-invite",
   "metadata": {},
   "source": [
    "**Our model accuracy is 91 % on Test dataset. Which is pretty good. !**\n",
    "\n",
    "\n",
    "## Subscribe to Coding Lane : https://www.youtube.com/channel/UCJFAF6IsaMkzHBDdfriY-yQ?sub_confirmation=1"
   ]
  },
  {
   "cell_type": "code",
   "execution_count": 87,
   "id": "a439f666",
   "metadata": {},
   "outputs": [
    {
     "name": "stdout",
     "output_type": "stream",
     "text": [
      "Selamat Datang di Coding.com\n",
      "Username: Rizal\n",
      "Password: 12345678\n",
      "Mohon Maaf, Username atau Password yang Kamu Masukkan Salah\n",
      "Username: Eclips\n",
      "Password: 1324\n",
      "Selamat, Kamu Berhasil Log In!\n"
     ]
    }
   ],
   "source": [
    "UsernameList = [\"Eclips\", \"Geany\", \"Xcode\"]\n",
    "PasswordList = [1324, 1416, 232434]\n",
    "\n",
    "print(\"Selamat Datang di Coding.com\")\n",
    "\n",
    "\n",
    "kesempatan = 3\n",
    "while kesempatan > 0:\n",
    "    User = input(\"Username: \")\n",
    "    Pass = int(input(\"Password: \"))\n",
    "\n",
    "    for i in UsernameList:    \n",
    "        if User == i:\n",
    "            break\n",
    "    for k in PasswordList:  \n",
    "        if Pass == k:\n",
    "            print(\"Selamat, Kamu Berhasil Log In!\")\n",
    "            break\n",
    "    \n",
    "    if User == i and Pass == k:\n",
    "        break\n",
    "    elif User != i and Pass != k:\n",
    "        kesempatan -= 1\n",
    "        print(\"Mohon Maaf, Username atau Password yang Kamu Masukkan Salah\")\n",
    "   \n",
    "if kesempatan == 0:\n",
    "    print(\"Kesempatanmu sudah Habis. Silahkan Tunggu 5 menit Lagi\")"
   ]
  },
  {
   "cell_type": "code",
   "execution_count": null,
   "id": "promotional-greene",
   "metadata": {},
   "outputs": [],
   "source": [
    "def accuracy(X, Y, W, B):\n",
    "    print('nilai X', X)\n",
    "    print('nilai Y', Y)\n",
    "    print('nilai W', W)\n",
    "    print('nilai B', B)\n",
    "    \n",
    "    Z = np.dot(W.T, X) + B\n",
    "    print('nilai Z', Z)\n",
    "    A = sigmoid(Z)\n",
    "    print('nilai A', A)\n",
    "    \n",
    "    A = A > 0.5\n",
    "    print('boole', A)\n",
    "    A = np.array(A, dtype = 'int64')\n",
    "    print('np', A)\n",
    "    acc = (1 - np.sum(np.absolute(A - Y))/Y.shape[1])*100\n",
    "    \n",
    "    print(\"Accuracy of the model is : \", round(acc, 3), \"%\")"
   ]
  }
 ],
 "metadata": {
  "kernelspec": {
   "display_name": "Python 3 (ipykernel)",
   "language": "python",
   "name": "python3"
  },
  "language_info": {
   "codemirror_mode": {
    "name": "ipython",
    "version": 3
   },
   "file_extension": ".py",
   "mimetype": "text/x-python",
   "name": "python",
   "nbconvert_exporter": "python",
   "pygments_lexer": "ipython3",
   "version": "3.9.6"
  }
 },
 "nbformat": 4,
 "nbformat_minor": 5
}
