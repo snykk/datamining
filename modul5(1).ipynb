{
 "cells": [
  {
   "cell_type": "code",
   "execution_count": 1,
   "id": "4cebf359",
   "metadata": {},
   "outputs": [
    {
     "name": "stderr",
     "output_type": "stream",
     "text": [
      "c:\\users\\fikri\\appdata\\local\\programs\\python\\python39\\lib\\site-packages\\IPython\\core\\interactiveshell.py:3441: FutureWarning: In a future version of pandas all arguments of read_csv except for the argument 'filepath_or_buffer' will be keyword-only\n",
      "  exec(code_obj, self.user_global_ns, self.user_ns)\n"
     ]
    }
   ],
   "source": [
    "import csv\n",
    "import numpy as np\n",
    "import matplotlib.pyplot as plt\n",
    "from sklearn.cluster import KMeans\n",
    "from sklearn.preprocessing import MinMaxScaler\n",
    "\n",
    "import pandas as pd\n",
    "df = pd.read_csv('iris.csv', '\\t')"
   ]
  },
  {
   "cell_type": "code",
   "execution_count": 7,
   "id": "19928731",
   "metadata": {},
   "outputs": [
    {
     "data": {
      "text/plain": [
       "<matplotlib.collections.PathCollection at 0x2291277bf70>"
      ]
     },
     "execution_count": 7,
     "metadata": {},
     "output_type": "execute_result"
    },
    {
     "data": {
      "image/png": "[encoded data removed]",
      "text/plain": [
       "<Figure size 432x288 with 1 Axes>"
      ]
     },
     "metadata": {
      "needs_background": "light"
     },
     "output_type": "display_data"
    }
   ],
   "source": [
    "plt.scatter(df['Sepal_length'].loc[df['Species_name']==' Setosa'],df['Sepal_width'].loc[df['Species_name']==' Setosa'],color='red')\n",
    "plt.scatter(df['Sepal_length'].loc[df['Species_name']==' Verginica'],df['Sepal_width'].loc[df['Species_name']==' Verginica'],color='green')\n",
    "plt.scatter(df['Sepal_length'].loc[df['Species_name']==' Versicolor'],df['Sepal_width'].loc[df['Species_name']==' Versicolor'],color='yellow')\n",
    "plt.scatter(df['Sepal_length'].loc[df['Species_name']=='unknown'],df['Sepal_width'].loc[df['Species_name']=='unknown'],color='blue')"
   ]
  },
  {
   "cell_type": "code",
   "execution_count": null,
   "id": "1e7cec01",
   "metadata": {},
   "outputs": [],
   "source": []
  }
 ],
 "metadata": {
  "kernelspec": {
   "display_name": "Python 3 (ipykernel)",
   "language": "python",
   "name": "python3"
  },
  "language_info": {
   "codemirror_mode": {
    "name": "ipython",
    "version": 3
   },
   "file_extension": ".py",
   "mimetype": "text/x-python",
   "name": "python",
   "nbconvert_exporter": "python",
   "pygments_lexer": "ipython3",
   "version": "3.9.6"
  }
 },
 "nbformat": 4,
 "nbformat_minor": 5
}
