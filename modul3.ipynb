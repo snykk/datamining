{
 "cells": [
  {
   "cell_type": "code",
   "execution_count": 89,
   "id": "63881b7a",
   "metadata": {},
   "outputs": [
    {
     "name": "stdout",
     "output_type": "stream",
     "text": [
      "     sepal.length  sepal.width  petal.length  petal.width    variety\n",
      "0             5.1          3.5           1.4          0.2     Setosa\n",
      "1             4.9          3.0           1.4          0.2     Setosa\n",
      "2             4.7          3.2           1.3          0.2     Setosa\n",
      "3             4.6          3.1           1.5          0.2     Setosa\n",
      "4             5.0          3.6           1.4          0.2     Setosa\n",
      "..            ...          ...           ...          ...        ...\n",
      "145           6.7          3.0           5.2          2.3  Virginica\n",
      "146           6.3          2.5           5.0          1.9  Virginica\n",
      "147           6.5          3.0           5.2          2.0  Virginica\n",
      "148           6.2          3.4           5.4          2.3  Virginica\n",
      "149           5.9          3.0           5.1          1.8  Virginica\n",
      "\n",
      "[150 rows x 5 columns]\n"
     ]
    }
   ],
   "source": [
    "# 1.\tMasukkan iris.csv ke dataframe\n",
    "import pandas as pd\n",
    "\n",
    "#load dataset menggunakan pandas\n",
    "dataFrame = pd.read_csv(\"irisBaru.csv\")\n",
    "print(dataFrame)"
   ]
  },
  {
   "cell_type": "code",
   "execution_count": 90,
   "id": "9c7c6e14",
   "metadata": {},
   "outputs": [
    {
     "name": "stdout",
     "output_type": "stream",
     "text": [
      "     sepal.length  sepal.width  petal.length  petal.width    variety\n",
      "0        0.222222     0.625000      0.067797     0.041667     Setosa\n",
      "1        0.166667     0.416667      0.067797     0.041667     Setosa\n",
      "2        0.111111     0.500000      0.050847     0.041667     Setosa\n",
      "3        0.083333     0.458333      0.084746     0.041667     Setosa\n",
      "4        0.194444     0.666667      0.067797     0.041667     Setosa\n",
      "..            ...          ...           ...          ...        ...\n",
      "145      0.666667     0.416667      0.711864     0.916667  Virginica\n",
      "146      0.555556     0.208333      0.677966     0.750000  Virginica\n",
      "147      0.611111     0.416667      0.711864     0.791667  Virginica\n",
      "148      0.527778     0.583333      0.745763     0.916667  Virginica\n",
      "149      0.444444     0.416667      0.694915     0.708333  Virginica\n",
      "\n",
      "[150 rows x 5 columns]\n"
     ]
    }
   ],
   "source": [
    "# 2.\tNormalisasikan setiap attribut iris ke dataframe menggunakan normalisasi min max \n",
    "# sehingga setiap nilai attribut memiliki range 0 – 1. Vbaru = (Vlama - Vmin) / (Vmax - Vmin). \n",
    "# Vbaru = nilai data di suatu sel setelah normalisasi, Vlama = nilai data asli sebelum normalisasi, \n",
    "# Vmax = nilai max dari kolom data tersebut, Vmin = nilai min dari kolom data tersebut       \n",
    "\n",
    "#fungsi normalisasi\n",
    "def normalisasi(kolom):\n",
    "    return (dataFrame[kolom]-dataFrame[kolom].min()) / (dataFrame[kolom].max() - dataFrame[kolom].min())\n",
    "\n",
    "#mengubah nilai setiap kelas setelah dinormalisasi\n",
    "dataFrame[\"sepal.length\"] = normalisasi(\"sepal.length\")\n",
    "dataFrame[\"sepal.width\"] = normalisasi(\"sepal.width\")\n",
    "dataFrame[\"petal.length\"] = normalisasi(\"petal.length\")\n",
    "dataFrame[\"petal.width\"] = normalisasi(\"petal.width\")\n",
    "print(dataFrame)\n"
   ]
  },
  {
   "cell_type": "code",
   "execution_count": 91,
   "id": "51f140fa",
   "metadata": {},
   "outputs": [
    {
     "name": "stdout",
     "output_type": "stream",
     "text": [
      "Centroid Setosa\n",
      "sepal.length    0.196111\n",
      "sepal.width     0.595000\n",
      "petal.length    0.078305\n",
      "petal.width     0.060833\n",
      "dtype: float64\n",
      "Centroid Versicolor\n",
      "sepal.length    0.454444\n",
      "sepal.width     0.320833\n",
      "petal.length    0.552542\n",
      "petal.width     0.510833\n",
      "dtype: float64\n",
      "Centroid Virginica\n",
      "sepal.length    0.635556\n",
      "sepal.width     0.405833\n",
      "petal.length    0.771525\n",
      "petal.width     0.802500\n",
      "dtype: float64\n"
     ]
    },
    {
     "name": "stderr",
     "output_type": "stream",
     "text": [
      "C:\\Users\\Fikri\\AppData\\Local\\Temp/ipykernel_12400/1216707558.py:3: FutureWarning: Dropping of nuisance columns in DataFrame reductions (with 'numeric_only=None') is deprecated; in a future version this will raise TypeError.  Select only valid columns before calling the reduction.\n",
      "  centroidSetosa = dataFrame.loc[dataFrame['variety'] == 'Setosa'].mean()\n",
      "C:\\Users\\Fikri\\AppData\\Local\\Temp/ipykernel_12400/1216707558.py:4: FutureWarning: Dropping of nuisance columns in DataFrame reductions (with 'numeric_only=None') is deprecated; in a future version this will raise TypeError.  Select only valid columns before calling the reduction.\n",
      "  centroidVersicolor = dataFrame.loc[dataFrame['variety'] == 'Versicolor'].mean()\n",
      "C:\\Users\\Fikri\\AppData\\Local\\Temp/ipykernel_12400/1216707558.py:5: FutureWarning: Dropping of nuisance columns in DataFrame reductions (with 'numeric_only=None') is deprecated; in a future version this will raise TypeError.  Select only valid columns before calling the reduction.\n",
      "  centroidVirginica = dataFrame.loc[dataFrame['variety'] == 'Virginica'].mean()\n"
     ]
    }
   ],
   "source": [
    "# 3.\tCari centroid dari data yang telah dinormalisasi. Centroid dihitung dari rata2 seluruh data suatu kolom'\n",
    "\n",
    "#menghitung rata-rata masing-masing kelas\n",
    "centroidSetosa = dataFrame.loc[dataFrame['variety'] == 'Setosa'].mean()\n",
    "centroidVersicolor = dataFrame.loc[dataFrame['variety'] == 'Versicolor'].mean()\n",
    "centroidVirginica = dataFrame.loc[dataFrame['variety'] == 'Virginica'].mean()\n",
    "\n",
    "print(f\"Centroid Setosa\\n{centroidSetosa}\")\n",
    "print(f\"Centroid Versicolor\\n{centroidVersicolor}\")\n",
    "print(f\"Centroid Virginica\\n{centroidVirginica}\")\n"
   ]
  },
  {
   "cell_type": "code",
   "execution_count": 92,
   "id": "9e7f7515",
   "metadata": {
    "scrolled": true
   },
   "outputs": [
    {
     "name": "stdout",
     "output_type": "stream",
     "text": [
      "    sepal.length  sepal.width  petal.length  petal.width     variety\n",
      "0            5.0          3.5           1.3          0.3      Setosa\n",
      "1            4.5          2.3           1.3          0.3      Setosa\n",
      "2            4.4          3.2           1.3          0.2      Setosa\n",
      "3            5.0          3.5           1.6          0.6      Setosa\n",
      "4            5.1          3.8           1.9          0.4      Setosa\n",
      "5            4.8          3.0           1.4          0.3      Setosa\n",
      "6            5.1          3.8           1.6          0.2      Setosa\n",
      "7            4.6          3.2           1.4          0.2      Setosa\n",
      "8            5.3          3.7           1.5          0.2      Setosa\n",
      "9            5.0          3.3           1.4          0.2      Setosa\n",
      "10           5.5          2.6           4.4          1.2  Versicolor\n",
      "11           6.1          3.0           4.6          1.4  Versicolor\n",
      "12           5.8          2.6           4.0          1.2  Versicolor\n",
      "13           5.0          2.3           3.3          1.0  Versicolor\n",
      "14           5.6          2.7           4.2          1.3  Versicolor\n",
      "15           5.7          3.0           4.2          1.2  Versicolor\n",
      "16           5.7          2.9           4.2          1.3  Versicolor\n",
      "17           6.2          2.9           4.3          1.3  Versicolor\n",
      "18           5.1          2.5           3.0          1.1  Versicolor\n",
      "19           5.7          2.8           4.1          1.3  Versicolor\n",
      "20           6.7          3.1           5.6          2.4   Virginica\n",
      "21           6.9          3.1           5.1          2.3   Virginica\n",
      "22           5.8          2.7           5.1          1.9   Virginica\n",
      "23           6.8          3.2           5.9          2.3   Virginica\n",
      "24           6.7          3.3           5.7          2.5   Virginica\n",
      "25           6.7          3.0           5.2          2.3   Virginica\n",
      "26           6.3          2.5           5.0          1.9   Virginica\n",
      "27           6.5          3.0           5.2          2.0   Virginica\n",
      "28           6.2          3.4           5.4          2.3   Virginica\n",
      "29           5.9          3.0           5.1          1.8   Virginica\n"
     ]
    }
   ],
   "source": [
    "# 4.\tMasukkan iristesting.csv ke dataframe. Normalisasikan iristesting.csv menggunakan vmin dan vmax pada data 1\n",
    "\n",
    "dfTesting = pd.read_csv(\"iristesting.csv\")\n",
    "print(dfTesting)"
   ]
  },
  {
   "cell_type": "code",
   "execution_count": 93,
   "id": "2bea0eb8",
   "metadata": {},
   "outputs": [
    {
     "name": "stdout",
     "output_type": "stream",
     "text": [
      "    sepal.length  sepal.width  petal.length  petal.width     variety\n",
      "0           0.24     0.800000      0.000000     0.043478      Setosa\n",
      "1           0.04     0.000000      0.000000     0.043478      Setosa\n",
      "2           0.00     0.600000      0.000000     0.000000      Setosa\n",
      "3           0.24     0.800000      0.065217     0.173913      Setosa\n",
      "4           0.28     1.000000      0.130435     0.086957      Setosa\n",
      "5           0.16     0.466667      0.021739     0.043478      Setosa\n",
      "6           0.28     1.000000      0.065217     0.000000      Setosa\n",
      "7           0.08     0.600000      0.021739     0.000000      Setosa\n",
      "8           0.36     0.933333      0.043478     0.000000      Setosa\n",
      "9           0.24     0.666667      0.021739     0.000000      Setosa\n",
      "10          0.44     0.200000      0.673913     0.434783  Versicolor\n",
      "11          0.68     0.466667      0.717391     0.521739  Versicolor\n",
      "12          0.56     0.200000      0.586957     0.434783  Versicolor\n",
      "13          0.24     0.000000      0.434783     0.347826  Versicolor\n",
      "14          0.48     0.266667      0.630435     0.478261  Versicolor\n",
      "15          0.52     0.466667      0.630435     0.434783  Versicolor\n",
      "16          0.52     0.400000      0.630435     0.478261  Versicolor\n",
      "17          0.72     0.400000      0.652174     0.478261  Versicolor\n",
      "18          0.28     0.133333      0.369565     0.391304  Versicolor\n",
      "19          0.52     0.333333      0.608696     0.478261  Versicolor\n",
      "20          0.92     0.533333      0.934783     0.956522   Virginica\n",
      "21          1.00     0.533333      0.826087     0.913043   Virginica\n",
      "22          0.56     0.266667      0.826087     0.739130   Virginica\n",
      "23          0.96     0.600000      1.000000     0.913043   Virginica\n",
      "24          0.92     0.666667      0.956522     1.000000   Virginica\n",
      "25          0.92     0.466667      0.847826     0.913043   Virginica\n",
      "26          0.76     0.133333      0.804348     0.739130   Virginica\n",
      "27          0.84     0.466667      0.847826     0.782609   Virginica\n",
      "28          0.72     0.733333      0.891304     0.913043   Virginica\n",
      "29          0.60     0.466667      0.826087     0.695652   Virginica\n"
     ]
    }
   ],
   "source": [
    "#fungsi normalisasi\n",
    "def normalisasi(kolom):\n",
    "    return (dfTesting[kolom]-dfTesting[kolom].min()) / (dfTesting[kolom].max() - dfTesting[kolom].min())\n",
    "\n",
    "\n",
    "dfTesting[\"sepal.length\"] = normalisasi(\"sepal.length\")\n",
    "dfTesting[\"sepal.width\"] = normalisasi(\"sepal.width\")\n",
    "dfTesting[\"petal.length\"] = normalisasi(\"petal.length\")\n",
    "dfTesting[\"petal.width\"] = normalisasi(\"petal.width\")\n",
    "print(dfTesting)"
   ]
  },
  {
   "attachments": {
    "euclidian_distance.PNG": {
     "image/png": "[encoded data removed]"
    }
   },
   "cell_type": "markdown",
   "id": "8904dd7d",
   "metadata": {},
   "source": [
    "### euclidian_distance\n",
    "![euclidian_distance.PNG](attachment:euclidian_distance.PNG)\n"
   ]
  },
  {
   "cell_type": "code",
   "execution_count": 8,
   "id": "a11c8653",
   "metadata": {},
   "outputs": [
    {
     "name": "stderr",
     "output_type": "stream",
     "text": [
      "C:\\Users\\Fikri\\AppData\\Local\\Temp/ipykernel_13756/3268814853.py:29: FutureWarning: Dropping of nuisance columns in DataFrame reductions (with 'numeric_only=None') is deprecated; in a future version this will raise TypeError.  Select only valid columns before calling the reduction.\n",
      "  centroid = df[df['variety'] == item].mean()\n"
     ]
    },
    {
     "name": "stdout",
     "output_type": "stream",
     "text": [
      "[Setosa]\t|\t[Setosa]\t ---> True\n",
      "[Setosa]\t|\t[Setosa]\t ---> True\n",
      "[Setosa]\t|\t[Setosa]\t ---> True\n",
      "[Setosa]\t|\t[Setosa]\t ---> True\n",
      "[Setosa]\t|\t[Setosa]\t ---> True\n",
      "[Setosa]\t|\t[Setosa]\t ---> True\n",
      "[Setosa]\t|\t[Setosa]\t ---> True\n",
      "[Setosa]\t|\t[Setosa]\t ---> True\n",
      "[Setosa]\t|\t[Setosa]\t ---> True\n",
      "[Setosa]\t|\t[Setosa]\t ---> True\n",
      "[Versicolor]\t|\t[Versicolor]\t ---> True\n",
      "[Versicolor]\t|\t[Virginica]\t ---> False\n",
      "[Versicolor]\t|\t[Versicolor]\t ---> True\n",
      "[Versicolor]\t|\t[Versicolor]\t ---> True\n",
      "[Versicolor]\t|\t[Versicolor]\t ---> True\n",
      "[Versicolor]\t|\t[Versicolor]\t ---> True\n",
      "[Versicolor]\t|\t[Versicolor]\t ---> True\n",
      "[Versicolor]\t|\t[Versicolor]\t ---> True\n",
      "[Versicolor]\t|\t[Versicolor]\t ---> True\n",
      "[Versicolor]\t|\t[Versicolor]\t ---> True\n",
      "[Virginica]\t|\t[Virginica]\t ---> True\n",
      "[Virginica]\t|\t[Virginica]\t ---> True\n",
      "[Virginica]\t|\t[Virginica]\t ---> True\n",
      "[Virginica]\t|\t[Virginica]\t ---> True\n",
      "[Virginica]\t|\t[Virginica]\t ---> True\n",
      "[Virginica]\t|\t[Virginica]\t ---> True\n",
      "[Virginica]\t|\t[Virginica]\t ---> True\n",
      "[Virginica]\t|\t[Virginica]\t ---> True\n",
      "[Virginica]\t|\t[Virginica]\t ---> True\n",
      "[Virginica]\t|\t[Virginica]\t ---> True\n"
     ]
    }
   ],
   "source": [
    "# 5.\tPrediksilah kelas data di iristesting.csv menggunakan kriteria kedekatan distance antara setiap data di iristesting.csv ke centroid masing2 class di iris. Gunakan euclidean distance \n",
    "import pandas as pd\n",
    "\n",
    "#load dataset dengan pandas \n",
    "df = pd.read_csv(\"irisBaru.csv\")\n",
    "dfTesting = pd.read_csv(\"iristesting.csv\")\n",
    "\n",
    "#fungsi normalisasi\n",
    "def normalisasi(dataset, kolom):\n",
    "    return (dataset[kolom]-dataset[kolom].min()) / (dataset[kolom].max() - dataset[kolom].min())\n",
    "\n",
    "#normalisasi dataset iris\n",
    "df[\"sepal.length\"] = normalisasi(df,\"sepal.length\")\n",
    "df[\"sepal.width\"] = normalisasi(df,\"sepal.width\")\n",
    "df[\"petal.length\"] = normalisasi(df,\"petal.length\")\n",
    "df[\"petal.width\"] = normalisasi(df,\"petal.width\")\n",
    "\n",
    "#normalisasi dataset iristesting\n",
    "dfTesting[\"sepal.length\"] = normalisasi(dfTesting,\"sepal.length\")\n",
    "dfTesting[\"sepal.width\"] = normalisasi(dfTesting,\"sepal.width\")\n",
    "dfTesting[\"petal.length\"] = normalisasi(dfTesting,\"petal.length\")\n",
    "dfTesting[\"petal.width\"] = normalisasi(dfTesting,\"petal.width\")\n",
    "\n",
    "#fungsi euclidian distance\n",
    "def euclidian_distance(indeks, data_frame):\n",
    "    kelas = ['Setosa','Versicolor','Virginica']\n",
    "    b = []\n",
    "    for item in kelas:\n",
    "        centroid = df[df['variety'] == item].mean()\n",
    "        test = data_frame.iloc[indeks, 0:-1]\n",
    "        a = ((centroid[0]-test[0])**2+(centroid[1]-test[1])**2+(centroid[2]-test[2])**2+(centroid[3]-test[3])**2)**1/2\n",
    "        b.append(a) \n",
    "    if min(b)==b[0]:\n",
    "        return 'Setosa'\n",
    "    elif min(b)==b[1]:\n",
    "        return 'Versicolor'\n",
    "    else:\n",
    "        return 'Virginica'\n",
    "    \n",
    "# print(dfTesting.iloc[0,0:-1])\n",
    "# print(df[df['variety'] == 'Setosa'])\n",
    "# print(euclidian_distance(0,dfTesting))\n",
    "\n",
    "#perulangan setiap baris pada dataset testing\n",
    "temp = []\n",
    "for j in dfTesting.index:\n",
    "    temp.append(euclidian_distance(j,dfTesting))\n",
    "    \n",
    "\n",
    "#menampilkan perbandingan hasil prediksi\n",
    "for baris in range(len(temp)):\n",
    "    print(f\"[{dfTesting['variety'].loc[baris]}]\\t|\\t[{temp[baris]}]\\t ---> {dfTesting['variety'][baris] == temp[baris]}\")\n"
   ]
  },
  {
   "cell_type": "code",
   "execution_count": 9,
   "id": "59886eb5",
   "metadata": {},
   "outputs": [
    {
     "name": "stdout",
     "output_type": "stream",
     "text": [
      "[Akurasi]\n",
      "~~> 96.66666666666667 %\n"
     ]
    }
   ],
   "source": [
    "# 6.\tHitunglah berapa persen klasifikasi yang benar (akurasi) saat memprediksi class \n",
    "count = 0\n",
    "for i in range(len(temp)):\n",
    "    if dfTesting['variety'][i] == temp[i]:\n",
    "        count += 1\n",
    "print(f\"[Akurasi]\\n~~> {(count/len(temp))*100} %\")"
   ]
  },
  {
   "cell_type": "code",
   "execution_count": null,
   "id": "b5bcec69",
   "metadata": {},
   "outputs": [],
   "source": []
  },
  {
   "cell_type": "code",
   "execution_count": null,
   "id": "2327cf76",
   "metadata": {},
   "outputs": [],
   "source": []
  },
  {
   "cell_type": "code",
   "execution_count": null,
   "id": "31551a41",
   "metadata": {},
   "outputs": [],
   "source": []
  },
  {
   "cell_type": "code",
   "execution_count": null,
   "id": "3546afc9",
   "metadata": {},
   "outputs": [],
   "source": []
  },
  {
   "cell_type": "code",
   "execution_count": null,
   "id": "05c66387",
   "metadata": {},
   "outputs": [],
   "source": []
  },
  {
   "cell_type": "code",
   "execution_count": null,
   "id": "6caded8b",
   "metadata": {},
   "outputs": [],
   "source": []
  },
  {
   "cell_type": "code",
   "execution_count": null,
   "id": "c0ca6c5e",
   "metadata": {},
   "outputs": [],
   "source": []
  },
  {
   "cell_type": "code",
   "execution_count": 30,
   "id": "9088103f",
   "metadata": {},
   "outputs": [
    {
     "data": {
      "text/plain": [
       "[0    0.224464\n",
       " 1    0.620346\n",
       " 2    0.219811\n",
       " 3    0.238557\n",
       " 4    0.417687\n",
       " 5    0.145857\n",
       " 6    0.418252\n",
       " 7    0.142854\n",
       " 8    0.382417\n",
       " 9    0.118164\n",
       " dtype: float64,\n",
       " 10    0.187947\n",
       " 11    0.315336\n",
       " 12    0.180861\n",
       " 13    0.435154\n",
       " 14    0.103515\n",
       " 15    0.193432\n",
       " 16    0.133015\n",
       " 17    0.296268\n",
       " 18    0.336682\n",
       " 19    0.093102\n",
       " dtype: float64,\n",
       " 20    0.384110\n",
       " 21    0.405306\n",
       " 22    0.179077\n",
       " 23    0.455396\n",
       " 24    0.471352\n",
       " 25    0.320392\n",
       " 26    0.307954\n",
       " 27    0.227411\n",
       " 28    0.375438\n",
       " 29    0.139134\n",
       " dtype: float64]"
      ]
     },
     "execution_count": 30,
     "metadata": {},
     "output_type": "execute_result"
    }
   ],
   "source": [
    "# 5.\tPrediksilah kelas data di iristesting.csv menggunakan kriteria kedekatan distance antara setiap data di iristesting.csv\n",
    "# ke centroid masing2 class di iris. Gunakan euclidean distance \n",
    "import pandas as pd\n",
    "# data:\n",
    "# centroidSetosa\n",
    "# centroidVersicolor\n",
    "# centroidVirginica\n",
    "kelas = ['Setosa','Versicolor','Virginica']\n",
    "\n",
    "dist = []\n",
    "\n",
    "def euclidian_distance(item, centroid):\n",
    "    objTest = dfTesting[dfTesting['variety']==item]\n",
    "    sepalLength = (objTest['sepal.length']-centroid['sepal.length'])**2\n",
    "    sepalWidth = (objTest['sepal.width']-centroid['sepal.width'])**2\n",
    "    petalLength = (objTest['petal.length']-centroid['petal.length'])**2\n",
    "    petalWidth = (objTest['petal.width']-centroid['petal.width'])**2\n",
    "    return (sepalLength + sepalWidth + petalLength + petalWidth)**(1/2)\n",
    "\n",
    "for item in kelas:\n",
    "    if item == 'Setosa':\n",
    "        dist.append(euclidian_distance(item, centroidSetosa))\n",
    "    elif item == 'Versicolor':\n",
    "        dist.append(euclidian_distance(item, centroidVersicolor))\n",
    "    else:\n",
    "        dist.append(euclidian_distance(item, centroidVirginica))\n",
    "        \n",
    "dist"
   ]
  },
  {
   "cell_type": "code",
   "execution_count": 16,
   "id": "7ec7754c",
   "metadata": {},
   "outputs": [
    {
     "ename": "AttributeError",
     "evalue": "type object 'KNeighborsClassifier' has no attribute 'ytesting'",
     "output_type": "error",
     "traceback": [
      "\u001b[1;31m---------------------------------------------------------------------------\u001b[0m",
      "\u001b[1;31mAttributeError\u001b[0m                            Traceback (most recent call last)",
      "\u001b[1;32m~\\AppData\\Local\\Temp/ipykernel_4964/910947111.py\u001b[0m in \u001b[0;36m<module>\u001b[1;34m\u001b[0m\n\u001b[0;32m      2\u001b[0m \u001b[1;32mfrom\u001b[0m \u001b[0msklearn\u001b[0m \u001b[1;32mimport\u001b[0m \u001b[0mpreprocessing\u001b[0m \u001b[1;32mas\u001b[0m \u001b[0mpr\u001b[0m\u001b[1;33m\u001b[0m\u001b[1;33m\u001b[0m\u001b[0m\n\u001b[0;32m      3\u001b[0m \u001b[1;33m\u001b[0m\u001b[0m\n\u001b[1;32m----> 4\u001b[1;33m \u001b[0mvar\u001b[0m \u001b[1;33m=\u001b[0m \u001b[0mkn\u001b[0m\u001b[1;33m.\u001b[0m\u001b[0mytesting\u001b[0m\u001b[1;33m(\u001b[0m\u001b[1;34m'centroidSetosa'\u001b[0m\u001b[1;33m)\u001b[0m\u001b[1;33m\u001b[0m\u001b[1;33m\u001b[0m\u001b[0m\n\u001b[0m",
      "\u001b[1;31mAttributeError\u001b[0m: type object 'KNeighborsClassifier' has no attribute 'ytesting'"
     ]
    }
   ],
   "source": [
    "from sklearn.neighbors import KNeighborsClassifier as kn\n",
    "from sklearn import preprocessing as pr\n",
    "\n",
    "var = kn.ytesting('centroidSetosa')"
   ]
  },
  {
   "cell_type": "code",
   "execution_count": 20,
   "id": "80aa5f73",
   "metadata": {},
   "outputs": [
    {
     "name": "stdout",
     "output_type": "stream",
     "text": [
      "0.2384063088512241\n"
     ]
    }
   ],
   "source": [
    "# for i in dfTesting.index:\n",
    "#     print(i)\n",
    "print(dfTesting.iloc[0, 0:-1].mean())"
   ]
  },
  {
   "cell_type": "code",
   "execution_count": 30,
   "id": "9c1711a0",
   "metadata": {},
   "outputs": [
    {
     "name": "stdout",
     "output_type": "stream",
     "text": [
      "    sepal_length  sepal_width  petal_length  petal_width species\n",
      "0       0.222222     0.625000      0.067797     0.041667  setosa\n",
      "1       0.166667     0.416667      0.067797     0.041667  setosa\n",
      "2       0.111111     0.500000      0.050847     0.041667  setosa\n",
      "3       0.083333     0.458333      0.084746     0.041667  setosa\n",
      "4       0.194444     0.666667      0.067797     0.041667  setosa\n",
      "5       0.305556     0.791667      0.118644     0.125000  setosa\n",
      "6       0.083333     0.583333      0.067797     0.083333  setosa\n",
      "7       0.194444     0.583333      0.084746     0.041667  setosa\n",
      "8       0.027778     0.375000      0.067797     0.041667  setosa\n",
      "9       0.166667     0.458333      0.084746     0.000000  setosa\n",
      "10      0.305556     0.708333      0.084746     0.041667  setosa\n",
      "11      0.138889     0.583333      0.101695     0.041667  setosa\n",
      "12      0.138889     0.416667      0.067797     0.000000  setosa\n",
      "13      0.000000     0.416667      0.016949     0.000000  setosa\n",
      "14      0.416667     0.833333      0.033898     0.041667  setosa\n",
      "15      0.388889     1.000000      0.084746     0.125000  setosa\n",
      "16      0.305556     0.791667      0.050847     0.125000  setosa\n",
      "17      0.222222     0.625000      0.067797     0.083333  setosa\n",
      "18      0.388889     0.750000      0.118644     0.083333  setosa\n",
      "19      0.222222     0.750000      0.084746     0.083333  setosa\n",
      "20      0.305556     0.583333      0.118644     0.041667  setosa\n",
      "21      0.222222     0.708333      0.084746     0.125000  setosa\n",
      "22      0.083333     0.666667      0.000000     0.041667  setosa\n",
      "23      0.222222     0.541667      0.118644     0.166667  setosa\n",
      "24      0.138889     0.583333      0.152542     0.041667  setosa\n",
      "25      0.194444     0.416667      0.101695     0.041667  setosa\n",
      "26      0.194444     0.583333      0.101695     0.125000  setosa\n",
      "27      0.250000     0.625000      0.084746     0.041667  setosa\n",
      "28      0.250000     0.583333      0.067797     0.041667  setosa\n",
      "29      0.111111     0.500000      0.101695     0.041667  setosa\n",
      "30      0.138889     0.458333      0.101695     0.041667  setosa\n",
      "31      0.305556     0.583333      0.084746     0.125000  setosa\n",
      "32      0.250000     0.875000      0.084746     0.000000  setosa\n",
      "33      0.333333     0.916667      0.067797     0.041667  setosa\n",
      "34      0.166667     0.458333      0.084746     0.000000  setosa\n",
      "35      0.194444     0.500000      0.033898     0.041667  setosa\n",
      "36      0.333333     0.625000      0.050847     0.041667  setosa\n",
      "37      0.166667     0.458333      0.084746     0.000000  setosa\n",
      "38      0.027778     0.416667      0.050847     0.041667  setosa\n",
      "39      0.222222     0.583333      0.084746     0.041667  setosa\n",
      "40      0.194444     0.625000      0.050847     0.083333  setosa\n",
      "41      0.055556     0.125000      0.050847     0.083333  setosa\n",
      "42      0.027778     0.500000      0.050847     0.041667  setosa\n",
      "43      0.194444     0.625000      0.101695     0.208333  setosa\n",
      "44      0.222222     0.750000      0.152542     0.125000  setosa\n",
      "45      0.138889     0.416667      0.067797     0.083333  setosa\n",
      "46      0.222222     0.750000      0.101695     0.041667  setosa\n",
      "47      0.083333     0.500000      0.067797     0.041667  setosa\n",
      "48      0.277778     0.708333      0.084746     0.041667  setosa\n",
      "49      0.194444     0.541667      0.067797     0.041667  setosa\n"
     ]
    }
   ],
   "source": [
    "centroid = df[df['species'] == 'setosa']\n",
    "print(centroid)"
   ]
  },
  {
   "cell_type": "code",
   "execution_count": 32,
   "id": "e8172f0c",
   "metadata": {},
   "outputs": [
    {
     "name": "stdout",
     "output_type": "stream",
     "text": [
      "sepal.length    5.0\n",
      "sepal.width     3.5\n",
      "petal.length    1.3\n",
      "petal.width     0.3\n",
      "Name: 0, dtype: object\n"
     ]
    }
   ],
   "source": [
    "test = dfTesting.iloc[0, 0:-1]\n",
    "print(test)"
   ]
  }
 ],
 "metadata": {
  "kernelspec": {
   "display_name": "Python 3 (ipykernel)",
   "language": "python",
   "name": "python3"
  },
  "language_info": {
   "codemirror_mode": {
    "name": "ipython",
    "version": 3
   },
   "file_extension": ".py",
   "mimetype": "text/x-python",
   "name": "python",
   "nbconvert_exporter": "python",
   "pygments_lexer": "ipython3",
   "version": "3.9.6"
  }
 },
 "nbformat": 4,
 "nbformat_minor": 5
}
